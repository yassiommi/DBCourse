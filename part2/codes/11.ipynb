{
 "cells": [
  {
   "cell_type": "code",
   "execution_count": 1,
   "metadata": {},
   "outputs": [],
   "source": [
    "import pandas as pd\n",
    "import matplotlib.pyplot as plt"
   ]
  },
  {
   "cell_type": "markdown",
   "metadata": {},
   "source": [
    "# سحرخیز‌ترین و شب‌زنده‌دارترین شهر‌ها بر اساس اطلاعات خرید مشتریان کدام شهرها هستند؟ میزان سحرخیزی یا شب‌زنده‌داری با مقدار خرید رابطه‌ای دارد؟"
   ]
  },
  {
   "cell_type": "code",
   "execution_count": 3,
   "metadata": {},
   "outputs": [],
   "source": [
    "df3 = pd.read_csv('3.csv')"
   ]
  },
  {
   "cell_type": "code",
   "execution_count": 4,
   "metadata": {},
   "outputs": [
    {
     "data": {
      "text/html": [
       "<div>\n",
       "<style scoped>\n",
       "    .dataframe tbody tr th:only-of-type {\n",
       "        vertical-align: middle;\n",
       "    }\n",
       "\n",
       "    .dataframe tbody tr th {\n",
       "        vertical-align: top;\n",
       "    }\n",
       "\n",
       "    .dataframe thead th {\n",
       "        text-align: right;\n",
       "    }\n",
       "</style>\n",
       "<table border=\"1\" class=\"dataframe\">\n",
       "  <thead>\n",
       "    <tr style=\"text-align: right;\">\n",
       "      <th></th>\n",
       "      <th>ID_Order</th>\n",
       "      <th>ID_Customer</th>\n",
       "      <th>ID_Item</th>\n",
       "      <th>DateTime_CartFinalize</th>\n",
       "      <th>Amount_Gross_Order</th>\n",
       "      <th>city_name_fa</th>\n",
       "      <th>Quantity_item</th>\n",
       "    </tr>\n",
       "  </thead>\n",
       "  <tbody>\n",
       "    <tr>\n",
       "      <th>0</th>\n",
       "      <td>2714054</td>\n",
       "      <td>469662</td>\n",
       "      <td>21386</td>\n",
       "      <td>2015-10-15 08:50:56.000</td>\n",
       "      <td>597982.0</td>\n",
       "      <td>محمود آباد</td>\n",
       "      <td>1.0</td>\n",
       "    </tr>\n",
       "    <tr>\n",
       "      <th>1</th>\n",
       "      <td>11104039</td>\n",
       "      <td>3063877</td>\n",
       "      <td>248497</td>\n",
       "      <td>2018-02-11 00:29:26.000</td>\n",
       "      <td>980000.0</td>\n",
       "      <td>خرمدره</td>\n",
       "      <td>1.0</td>\n",
       "    </tr>\n",
       "    <tr>\n",
       "      <th>2</th>\n",
       "      <td>4228130</td>\n",
       "      <td>3184893</td>\n",
       "      <td>50144</td>\n",
       "      <td>2016-06-14 00:30:08.000</td>\n",
       "      <td>229358.0</td>\n",
       "      <td>قرچک</td>\n",
       "      <td>1.0</td>\n",
       "    </tr>\n",
       "    <tr>\n",
       "      <th>3</th>\n",
       "      <td>22225624</td>\n",
       "      <td>6888562</td>\n",
       "      <td>70208</td>\n",
       "      <td>2018-09-03 14:37:19.000</td>\n",
       "      <td>16514.0</td>\n",
       "      <td>قم</td>\n",
       "      <td>1.0</td>\n",
       "    </tr>\n",
       "    <tr>\n",
       "      <th>4</th>\n",
       "      <td>4068771</td>\n",
       "      <td>2533490</td>\n",
       "      <td>67627</td>\n",
       "      <td>2016-05-21 11:51:02.000</td>\n",
       "      <td>133028.0</td>\n",
       "      <td>تهران</td>\n",
       "      <td>1.0</td>\n",
       "    </tr>\n",
       "  </tbody>\n",
       "</table>\n",
       "</div>"
      ],
      "text/plain": [
       "   ID_Order  ID_Customer  ID_Item    DateTime_CartFinalize  \\\n",
       "0   2714054       469662    21386  2015-10-15 08:50:56.000   \n",
       "1  11104039      3063877   248497  2018-02-11 00:29:26.000   \n",
       "2   4228130      3184893    50144  2016-06-14 00:30:08.000   \n",
       "3  22225624      6888562    70208  2018-09-03 14:37:19.000   \n",
       "4   4068771      2533490    67627  2016-05-21 11:51:02.000   \n",
       "\n",
       "   Amount_Gross_Order city_name_fa  Quantity_item  \n",
       "0            597982.0   محمود آباد            1.0  \n",
       "1            980000.0       خرمدره            1.0  \n",
       "2            229358.0         قرچک            1.0  \n",
       "3             16514.0           قم            1.0  \n",
       "4            133028.0        تهران            1.0  "
      ]
     },
     "execution_count": 4,
     "metadata": {},
     "output_type": "execute_result"
    }
   ],
   "source": [
    "df3.head()"
   ]
  },
  {
   "cell_type": "code",
   "execution_count": 5,
   "metadata": {},
   "outputs": [],
   "source": [
    "df3['date'], df3['time'] = zip(*df3['DateTime_CartFinalize'].map(lambda x: x.split(' ')))"
   ]
  },
  {
   "cell_type": "code",
   "execution_count": 6,
   "metadata": {},
   "outputs": [],
   "source": [
    "df3['year'], df3['month'], df3['day'] = zip(*df3['date'].map(lambda x: x.split('-')))"
   ]
  },
  {
   "cell_type": "code",
   "execution_count": 7,
   "metadata": {
    "scrolled": true
   },
   "outputs": [
    {
     "data": {
      "text/html": [
       "<div>\n",
       "<style scoped>\n",
       "    .dataframe tbody tr th:only-of-type {\n",
       "        vertical-align: middle;\n",
       "    }\n",
       "\n",
       "    .dataframe tbody tr th {\n",
       "        vertical-align: top;\n",
       "    }\n",
       "\n",
       "    .dataframe thead th {\n",
       "        text-align: right;\n",
       "    }\n",
       "</style>\n",
       "<table border=\"1\" class=\"dataframe\">\n",
       "  <thead>\n",
       "    <tr style=\"text-align: right;\">\n",
       "      <th></th>\n",
       "      <th>ID_Order</th>\n",
       "      <th>ID_Customer</th>\n",
       "      <th>ID_Item</th>\n",
       "      <th>DateTime_CartFinalize</th>\n",
       "      <th>Amount_Gross_Order</th>\n",
       "      <th>city_name_fa</th>\n",
       "      <th>Quantity_item</th>\n",
       "      <th>date</th>\n",
       "      <th>time</th>\n",
       "      <th>year</th>\n",
       "      <th>month</th>\n",
       "      <th>day</th>\n",
       "    </tr>\n",
       "  </thead>\n",
       "  <tbody>\n",
       "    <tr>\n",
       "      <th>0</th>\n",
       "      <td>2714054</td>\n",
       "      <td>469662</td>\n",
       "      <td>21386</td>\n",
       "      <td>2015-10-15 08:50:56.000</td>\n",
       "      <td>597982.0</td>\n",
       "      <td>محمود آباد</td>\n",
       "      <td>1.0</td>\n",
       "      <td>2015-10-15</td>\n",
       "      <td>08:50:56.000</td>\n",
       "      <td>2015</td>\n",
       "      <td>10</td>\n",
       "      <td>15</td>\n",
       "    </tr>\n",
       "    <tr>\n",
       "      <th>1</th>\n",
       "      <td>11104039</td>\n",
       "      <td>3063877</td>\n",
       "      <td>248497</td>\n",
       "      <td>2018-02-11 00:29:26.000</td>\n",
       "      <td>980000.0</td>\n",
       "      <td>خرمدره</td>\n",
       "      <td>1.0</td>\n",
       "      <td>2018-02-11</td>\n",
       "      <td>00:29:26.000</td>\n",
       "      <td>2018</td>\n",
       "      <td>02</td>\n",
       "      <td>11</td>\n",
       "    </tr>\n",
       "    <tr>\n",
       "      <th>2</th>\n",
       "      <td>4228130</td>\n",
       "      <td>3184893</td>\n",
       "      <td>50144</td>\n",
       "      <td>2016-06-14 00:30:08.000</td>\n",
       "      <td>229358.0</td>\n",
       "      <td>قرچک</td>\n",
       "      <td>1.0</td>\n",
       "      <td>2016-06-14</td>\n",
       "      <td>00:30:08.000</td>\n",
       "      <td>2016</td>\n",
       "      <td>06</td>\n",
       "      <td>14</td>\n",
       "    </tr>\n",
       "    <tr>\n",
       "      <th>3</th>\n",
       "      <td>22225624</td>\n",
       "      <td>6888562</td>\n",
       "      <td>70208</td>\n",
       "      <td>2018-09-03 14:37:19.000</td>\n",
       "      <td>16514.0</td>\n",
       "      <td>قم</td>\n",
       "      <td>1.0</td>\n",
       "      <td>2018-09-03</td>\n",
       "      <td>14:37:19.000</td>\n",
       "      <td>2018</td>\n",
       "      <td>09</td>\n",
       "      <td>03</td>\n",
       "    </tr>\n",
       "    <tr>\n",
       "      <th>4</th>\n",
       "      <td>4068771</td>\n",
       "      <td>2533490</td>\n",
       "      <td>67627</td>\n",
       "      <td>2016-05-21 11:51:02.000</td>\n",
       "      <td>133028.0</td>\n",
       "      <td>تهران</td>\n",
       "      <td>1.0</td>\n",
       "      <td>2016-05-21</td>\n",
       "      <td>11:51:02.000</td>\n",
       "      <td>2016</td>\n",
       "      <td>05</td>\n",
       "      <td>21</td>\n",
       "    </tr>\n",
       "  </tbody>\n",
       "</table>\n",
       "</div>"
      ],
      "text/plain": [
       "   ID_Order  ID_Customer  ID_Item    DateTime_CartFinalize  \\\n",
       "0   2714054       469662    21386  2015-10-15 08:50:56.000   \n",
       "1  11104039      3063877   248497  2018-02-11 00:29:26.000   \n",
       "2   4228130      3184893    50144  2016-06-14 00:30:08.000   \n",
       "3  22225624      6888562    70208  2018-09-03 14:37:19.000   \n",
       "4   4068771      2533490    67627  2016-05-21 11:51:02.000   \n",
       "\n",
       "   Amount_Gross_Order city_name_fa  Quantity_item        date          time  \\\n",
       "0            597982.0   محمود آباد            1.0  2015-10-15  08:50:56.000   \n",
       "1            980000.0       خرمدره            1.0  2018-02-11  00:29:26.000   \n",
       "2            229358.0         قرچک            1.0  2016-06-14  00:30:08.000   \n",
       "3             16514.0           قم            1.0  2018-09-03  14:37:19.000   \n",
       "4            133028.0        تهران            1.0  2016-05-21  11:51:02.000   \n",
       "\n",
       "   year month day  \n",
       "0  2015    10  15  \n",
       "1  2018    02  11  \n",
       "2  2016    06  14  \n",
       "3  2018    09  03  \n",
       "4  2016    05  21  "
      ]
     },
     "execution_count": 7,
     "metadata": {},
     "output_type": "execute_result"
    }
   ],
   "source": [
    "df3.head()"
   ]
  },
  {
   "cell_type": "markdown",
   "metadata": {},
   "source": [
    "اگر سحرخیزها رو کسایی بگیریم که بین ساعت ۳ تا ۶ خرید می‌کنن..."
   ]
  },
  {
   "cell_type": "code",
   "execution_count": 8,
   "metadata": {},
   "outputs": [],
   "source": [
    "saharkhiz = df3[(df3['time']>='03:00:00.000') & (df3['time']<='06:00:00.000')]"
   ]
  },
  {
   "cell_type": "code",
   "execution_count": 9,
   "metadata": {},
   "outputs": [
    {
     "data": {
      "text/html": [
       "<div>\n",
       "<style scoped>\n",
       "    .dataframe tbody tr th:only-of-type {\n",
       "        vertical-align: middle;\n",
       "    }\n",
       "\n",
       "    .dataframe tbody tr th {\n",
       "        vertical-align: top;\n",
       "    }\n",
       "\n",
       "    .dataframe thead th {\n",
       "        text-align: right;\n",
       "    }\n",
       "</style>\n",
       "<table border=\"1\" class=\"dataframe\">\n",
       "  <thead>\n",
       "    <tr style=\"text-align: right;\">\n",
       "      <th></th>\n",
       "      <th>ID_Order</th>\n",
       "      <th>ID_Customer</th>\n",
       "      <th>ID_Item</th>\n",
       "      <th>DateTime_CartFinalize</th>\n",
       "      <th>Amount_Gross_Order</th>\n",
       "      <th>city_name_fa</th>\n",
       "      <th>Quantity_item</th>\n",
       "      <th>date</th>\n",
       "      <th>time</th>\n",
       "      <th>year</th>\n",
       "      <th>month</th>\n",
       "      <th>day</th>\n",
       "    </tr>\n",
       "  </thead>\n",
       "  <tbody>\n",
       "    <tr>\n",
       "      <th>11</th>\n",
       "      <td>5623610</td>\n",
       "      <td>2827566</td>\n",
       "      <td>23927</td>\n",
       "      <td>2016-12-04 03:12:59.000</td>\n",
       "      <td>108000.0</td>\n",
       "      <td>لالی</td>\n",
       "      <td>1.0</td>\n",
       "      <td>2016-12-04</td>\n",
       "      <td>03:12:59.000</td>\n",
       "      <td>2016</td>\n",
       "      <td>12</td>\n",
       "      <td>04</td>\n",
       "    </tr>\n",
       "    <tr>\n",
       "      <th>20</th>\n",
       "      <td>6156363</td>\n",
       "      <td>3549803</td>\n",
       "      <td>193926</td>\n",
       "      <td>2017-01-24 03:05:35.000</td>\n",
       "      <td>41284.0</td>\n",
       "      <td>تهران</td>\n",
       "      <td>3.0</td>\n",
       "      <td>2017-01-24</td>\n",
       "      <td>03:05:35.000</td>\n",
       "      <td>2017</td>\n",
       "      <td>01</td>\n",
       "      <td>24</td>\n",
       "    </tr>\n",
       "    <tr>\n",
       "      <th>23</th>\n",
       "      <td>9194454</td>\n",
       "      <td>1468632</td>\n",
       "      <td>67518</td>\n",
       "      <td>2017-10-28 03:52:34.000</td>\n",
       "      <td>71560.0</td>\n",
       "      <td>قم</td>\n",
       "      <td>1.0</td>\n",
       "      <td>2017-10-28</td>\n",
       "      <td>03:52:34.000</td>\n",
       "      <td>2017</td>\n",
       "      <td>10</td>\n",
       "      <td>28</td>\n",
       "    </tr>\n",
       "    <tr>\n",
       "      <th>24</th>\n",
       "      <td>22454972</td>\n",
       "      <td>3527897</td>\n",
       "      <td>882178</td>\n",
       "      <td>2018-09-11 04:53:56.000</td>\n",
       "      <td>47706.0</td>\n",
       "      <td>تهران</td>\n",
       "      <td>1.0</td>\n",
       "      <td>2018-09-11</td>\n",
       "      <td>04:53:56.000</td>\n",
       "      <td>2018</td>\n",
       "      <td>09</td>\n",
       "      <td>11</td>\n",
       "    </tr>\n",
       "    <tr>\n",
       "      <th>92</th>\n",
       "      <td>12082993</td>\n",
       "      <td>834004</td>\n",
       "      <td>438498</td>\n",
       "      <td>2018-03-28 03:15:17.000</td>\n",
       "      <td>122936.0</td>\n",
       "      <td>تهران</td>\n",
       "      <td>1.0</td>\n",
       "      <td>2018-03-28</td>\n",
       "      <td>03:15:17.000</td>\n",
       "      <td>2018</td>\n",
       "      <td>03</td>\n",
       "      <td>28</td>\n",
       "    </tr>\n",
       "  </tbody>\n",
       "</table>\n",
       "</div>"
      ],
      "text/plain": [
       "    ID_Order  ID_Customer  ID_Item    DateTime_CartFinalize  \\\n",
       "11   5623610      2827566    23927  2016-12-04 03:12:59.000   \n",
       "20   6156363      3549803   193926  2017-01-24 03:05:35.000   \n",
       "23   9194454      1468632    67518  2017-10-28 03:52:34.000   \n",
       "24  22454972      3527897   882178  2018-09-11 04:53:56.000   \n",
       "92  12082993       834004   438498  2018-03-28 03:15:17.000   \n",
       "\n",
       "    Amount_Gross_Order city_name_fa  Quantity_item        date          time  \\\n",
       "11            108000.0         لالی            1.0  2016-12-04  03:12:59.000   \n",
       "20             41284.0        تهران            3.0  2017-01-24  03:05:35.000   \n",
       "23             71560.0           قم            1.0  2017-10-28  03:52:34.000   \n",
       "24             47706.0        تهران            1.0  2018-09-11  04:53:56.000   \n",
       "92            122936.0        تهران            1.0  2018-03-28  03:15:17.000   \n",
       "\n",
       "    year month day  \n",
       "11  2016    12  04  \n",
       "20  2017    01  24  \n",
       "23  2017    10  28  \n",
       "24  2018    09  11  \n",
       "92  2018    03  28  "
      ]
     },
     "execution_count": 9,
     "metadata": {},
     "output_type": "execute_result"
    }
   ],
   "source": [
    "saharkhiz.head()"
   ]
  },
  {
   "cell_type": "code",
   "execution_count": 12,
   "metadata": {},
   "outputs": [],
   "source": [
    "cities = saharkhiz['city_name_fa'].unique()\n",
    "dict1 = {}\n",
    "for i in range(len(cities)):\n",
    "    dict1[cities[i]] = len(saharkhiz[saharkhiz['city_name_fa'] == cities[i]])"
   ]
  },
  {
   "cell_type": "code",
   "execution_count": 14,
   "metadata": {
    "scrolled": true
   },
   "outputs": [
    {
     "name": "stdout",
     "output_type": "stream",
     "text": [
      "[('تهران', 2299), ('اهواز', 176), ('مشهد', 163), ('اصفهان', 154), ('کرج', 134), ('شیراز', 120), ('قم', 81), ('رشت', 75), ('تبریز', 60), ('کرمانشاه', 57), ('یزد', 49), ('کرمان', 41), ('بابل', 36), ('گرگان', 36), ('بندر عباس', 36), ('ساری', 33), ('لاهیجان', 30), ('همدان', 28), ('بندر ماهشهر', 27), ('قزوین', 26), ('ارومیه', 24), ('اردبیل', 24), ('زاهدان', 23), ('شاهین شهر', 22), ('بندر انزلی', 22), ('آمل', 19), ('قائم شهر', 19), ('اراک', 18), ('زنجان', 16), ('بابلسر', 16), ('خرم آباد', 16), ('سمنان', 15), ('آبادان', 14), ('چالوس', 13), ('نیشابور', 13), ('فردیس', 13), ('بوشهر', 13), ('نوشهر', 13), ('اسلامشهر', 13), ('سنندج', 12), ('کاشان', 12), ('یاسوج', 12), ('بیرجند', 12), ('شهرکرد', 12), ('شهریار', 11), ('بروجرد', 11), ('کیش', 11), ('بهبهان', 11), ('دزفول', 11), ('نجف آباد', 10), ('سیرجان', 10), ('اندیشه', 10), ('گنبدکاووس', 9), ('مسجد سلیمان', 8), ('رفسنجان', 8), ('ایلام', 8), ('بهشهر', 8), ('ساوه', 7), ('شاهرود', 7), ('اندیمشک', 7), ('محمود آباد', 7), ('صومعه سرا', 6), ('رامهرمز', 6), ('ایذه', 6), ('دورود', 6), ('فولاد شهر', 6), ('بجنورد', 6), ('لنگرود', 6), ('سبزوار', 6), ('ابهر', 6), ('ورامین', 5), ('رامسر', 5), ('تنکابن', 5), ('قرچک', 5), ('گراش', 5), ('آستارا', 5), ('مراغه', 5), ('دوگنبدان', 5), ('مریوان', 5), ('نورآباد', 5), ('جهرم', 5), ('ملارد', 5), ('امیدیه', 5), ('ایرانشهر', 5), ('آبیک', 4), ('بوکان', 4), ('داراب', 4), ('بندر امام خمینی', 4), ('علی آباد', 4), ('رضوانشهر', 4), ('مرند', 4), ('میبد', 4), ('لار', 4), ('خرمدره', 4), ('قیدار', 4), ('جیرفت', 4), ('فومن', 4), ('شوش', 4), ('خارک', 4), ('مشگین شهر', 4), ('شبستر', 3), ('نی ریز', 3), ('پارسیان', 3), ('بم', 3), ('هشتپر', 3), ('تاکستان', 3), ('دامغان', 3), ('کازرون', 3), ('شهر بابک', 3), ('شوشتر', 3), ('مهاباد', 3), ('ملایر', 3), ('رودسر', 3), ('رویان', 3), ('خرمشهر', 3), ('بهارستان', 3), ('پیرانشهر', 3), ('پردیس', 3), ('بندر کنگان', 3), ('قوچان', 3), ('تکاب', 3), ('کرد کوی', 3), ('زابل', 3), ('پاکدشت', 3), ('فریدونکنار', 3), ('چاه بهار', 3), ('سردشت', 3), ('شهرضا', 3), ('بناب', 3), ('قدس', 3), ('میانه', 3), ('هشتگرد', 2), ('کنارک', 2), ('شاهین دژ', 2), ('جعفریه', 2), ('پره سر', 2), ('ماکو', 2), ('اسدیه', 2), ('مهران', 2), ('شهر جدید هشتگرد', 2), ('فرادنبه', 2), ('باغ ملک', 2), ('پلدشت', 2), ('جم', 2), ('تربت حیدریه', 2), ('کلاچای', 2), ('تایباد', 2), ('جالق', 2), ('ماسال', 2), ('سرخرود', 2), ('گرمسار', 2), ('کلاردشت', 2), ('بندر دیر', 2), ('بومهن', 2), ('نطنز', 2), ('بستک', 2), ('خوی', 2), ('دهدشت', 2), ('نور', 2), ('فاروج', 2), ('میناب', 2), ('اسد آباد', 2), ('بندر ترکمن', 2), ('بیجار', 2), ('نهاوند', 2), ('شیروان', 2), ('بهار', 2), ('سورک', 2), ('زهک', 2), ('شهر جدید پرند', 2), ('کهریزک', 2), ('رباط کریم', 2), ('مشکین دشت', 2), ('خمینی شهر', 2), ('محمدیه', 2), ('پیشوا', 2), ('میاندوآب', 2), ('لالی', 1), ('کلارآباد', 1), ('دماوند', 1), ('دهدز', 1), ('رودهن', 1), ('زارچ', 1), ('آباده', 1), ('شلمزار', 1), ('دهلران', 1), ('ازنا', 1), ('محلات', 1), ('فلاورجان', 1), ('نقده', 1), ('حاجی آباد', 1), ('چمران', 1), ('میمه', 1), ('باغستان', 1), ('کمال شهر', 1), ('مرودشت', 1), ('وزوان', 1), ('گلستان', 1), ('خان ببین', 1), ('بوئین زهرا', 1), ('ایمانشهر', 1), ('رستم آباد', 1), ('دلوار', 1), ('خمیر', 1), ('پاوه', 1), ('بندر جاسک', 1), ('اهر', 1), ('زاویه', 1), ('قروه', 1), ('نکا', 1), ('شهر جدید مهاجران', 1), ('چمستان', 1), ('سرخه', 1), ('سوسنگرد', 1), ('جاورسیان', 1), ('هچیرود', 1), ('طبس', 1), ('کنگاور', 1), ('سراب', 1), ('خور', 1), ('هفشجان', 1), ('درگز', 1), ('بیستون', 1), ('رویدر', 1), ('املش', 1), ('زرین شهر', 1), ('برازجان', 1), ('مینودشت', 1), ('فیروزآباد', 1), ('اشکذر', 1), ('دره شهر', 1), ('قائن', 1), ('چابکسر', 1), ('سراوان', 1), ('عماد ده', 1), ('چهاردانگه', 1), ('بردسیر', 1), ('خوراسگان', 1), ('الوند', 1), ('شازند', 1), ('مبارکه', 1), ('خرمدشت', 1), ('بروجن', 1), ('سیاهکل', 1), ('آق قلا', 1), ('زرند', 1), ('لامرد', 1), ('بندر گناوه', 1), ('آزاد شهر', 1), ('تسوج', 1), ('محمد شهر', 1), ('دهگلان', 1), ('سلمان شهر', 1), ('جویبار', 1), ('علویچه', 1), ('تفرش', 1), ('اردکان', 1), ('جویم', 1), ('آستانه اشرفیه', 1), ('فیض آباد', 1), ('پلدختر', 1), ('چاف و چمخاله', 1), ('سقز', 1), ('کوهدشت', 1), ('پارس آباد', 1), ('شادگان', 1), ('قیر', 1), ('آران و بیدگل', 1), ('الشتر', 1), ('داران', 1), ('بردسکن', 1), ('بندر لنگه', 1), ('سوران', 1), ('زیرآب', 1), ('کهک', 1), ('سر پل ذهاب', 1), ('لواسان', 1), ('چارک', 1), ('گمیش تپه', 1), ('شفت', 1), ('سیمین شهر', 1), ('راور', 1), ('آبپخش', 1), ('لشت نشاء', 1), ('نسیم شهر', 1), ('شهر جدید صدرا', 1), ('درود', 1), ('ماکلوان', 1), ('انار', 1), ('گتوند', 1)]\n"
     ]
    }
   ],
   "source": [
    "import operator\n",
    "sorted_cities_sahar = sorted(dict1.items(), key=operator.itemgetter(1), reverse=True)\n",
    "print(sorted_cities_sahar)"
   ]
  },
  {
   "cell_type": "markdown",
   "metadata": {},
   "source": [
    "حالا اگر شب‌زنده‌دارها بین ساعت ۱۲ تا ۳ خرید کنن"
   ]
  },
  {
   "cell_type": "code",
   "execution_count": 15,
   "metadata": {},
   "outputs": [],
   "source": [
    "shabfelan = df3[(df3['time']>='00:00:00.000') & (df3['time']<='03:00:00.000')]"
   ]
  },
  {
   "cell_type": "code",
   "execution_count": 16,
   "metadata": {},
   "outputs": [
    {
     "data": {
      "text/html": [
       "<div>\n",
       "<style scoped>\n",
       "    .dataframe tbody tr th:only-of-type {\n",
       "        vertical-align: middle;\n",
       "    }\n",
       "\n",
       "    .dataframe tbody tr th {\n",
       "        vertical-align: top;\n",
       "    }\n",
       "\n",
       "    .dataframe thead th {\n",
       "        text-align: right;\n",
       "    }\n",
       "</style>\n",
       "<table border=\"1\" class=\"dataframe\">\n",
       "  <thead>\n",
       "    <tr style=\"text-align: right;\">\n",
       "      <th></th>\n",
       "      <th>ID_Order</th>\n",
       "      <th>ID_Customer</th>\n",
       "      <th>ID_Item</th>\n",
       "      <th>DateTime_CartFinalize</th>\n",
       "      <th>Amount_Gross_Order</th>\n",
       "      <th>city_name_fa</th>\n",
       "      <th>Quantity_item</th>\n",
       "      <th>date</th>\n",
       "      <th>time</th>\n",
       "      <th>year</th>\n",
       "      <th>month</th>\n",
       "      <th>day</th>\n",
       "    </tr>\n",
       "  </thead>\n",
       "  <tbody>\n",
       "    <tr>\n",
       "      <th>1</th>\n",
       "      <td>11104039</td>\n",
       "      <td>3063877</td>\n",
       "      <td>248497</td>\n",
       "      <td>2018-02-11 00:29:26.000</td>\n",
       "      <td>980000.0</td>\n",
       "      <td>خرمدره</td>\n",
       "      <td>1.0</td>\n",
       "      <td>2018-02-11</td>\n",
       "      <td>00:29:26.000</td>\n",
       "      <td>2018</td>\n",
       "      <td>02</td>\n",
       "      <td>11</td>\n",
       "    </tr>\n",
       "    <tr>\n",
       "      <th>2</th>\n",
       "      <td>4228130</td>\n",
       "      <td>3184893</td>\n",
       "      <td>50144</td>\n",
       "      <td>2016-06-14 00:30:08.000</td>\n",
       "      <td>229358.0</td>\n",
       "      <td>قرچک</td>\n",
       "      <td>1.0</td>\n",
       "      <td>2016-06-14</td>\n",
       "      <td>00:30:08.000</td>\n",
       "      <td>2016</td>\n",
       "      <td>06</td>\n",
       "      <td>14</td>\n",
       "    </tr>\n",
       "    <tr>\n",
       "      <th>21</th>\n",
       "      <td>11140715</td>\n",
       "      <td>6500201</td>\n",
       "      <td>574889</td>\n",
       "      <td>2018-02-13 02:15:42.000</td>\n",
       "      <td>380000.0</td>\n",
       "      <td>اهواز</td>\n",
       "      <td>1.0</td>\n",
       "      <td>2018-02-13</td>\n",
       "      <td>02:15:42.000</td>\n",
       "      <td>2018</td>\n",
       "      <td>02</td>\n",
       "      <td>13</td>\n",
       "    </tr>\n",
       "    <tr>\n",
       "      <th>22</th>\n",
       "      <td>9503051</td>\n",
       "      <td>3048383</td>\n",
       "      <td>449799</td>\n",
       "      <td>2017-11-18 01:05:08.000</td>\n",
       "      <td>20000.0</td>\n",
       "      <td>اصفهان</td>\n",
       "      <td>1.0</td>\n",
       "      <td>2017-11-18</td>\n",
       "      <td>01:05:08.000</td>\n",
       "      <td>2017</td>\n",
       "      <td>11</td>\n",
       "      <td>18</td>\n",
       "    </tr>\n",
       "    <tr>\n",
       "      <th>32</th>\n",
       "      <td>23241056</td>\n",
       "      <td>535856</td>\n",
       "      <td>1399641</td>\n",
       "      <td>2018-10-13 00:18:22.000</td>\n",
       "      <td>55000.0</td>\n",
       "      <td>ساری</td>\n",
       "      <td>1.0</td>\n",
       "      <td>2018-10-13</td>\n",
       "      <td>00:18:22.000</td>\n",
       "      <td>2018</td>\n",
       "      <td>10</td>\n",
       "      <td>13</td>\n",
       "    </tr>\n",
       "  </tbody>\n",
       "</table>\n",
       "</div>"
      ],
      "text/plain": [
       "    ID_Order  ID_Customer  ID_Item    DateTime_CartFinalize  \\\n",
       "1   11104039      3063877   248497  2018-02-11 00:29:26.000   \n",
       "2    4228130      3184893    50144  2016-06-14 00:30:08.000   \n",
       "21  11140715      6500201   574889  2018-02-13 02:15:42.000   \n",
       "22   9503051      3048383   449799  2017-11-18 01:05:08.000   \n",
       "32  23241056       535856  1399641  2018-10-13 00:18:22.000   \n",
       "\n",
       "    Amount_Gross_Order city_name_fa  Quantity_item        date          time  \\\n",
       "1             980000.0       خرمدره            1.0  2018-02-11  00:29:26.000   \n",
       "2             229358.0         قرچک            1.0  2016-06-14  00:30:08.000   \n",
       "21            380000.0        اهواز            1.0  2018-02-13  02:15:42.000   \n",
       "22             20000.0       اصفهان            1.0  2017-11-18  01:05:08.000   \n",
       "32             55000.0         ساری            1.0  2018-10-13  00:18:22.000   \n",
       "\n",
       "    year month day  \n",
       "1   2018    02  11  \n",
       "2   2016    06  14  \n",
       "21  2018    02  13  \n",
       "22  2017    11  18  \n",
       "32  2018    10  13  "
      ]
     },
     "execution_count": 16,
     "metadata": {},
     "output_type": "execute_result"
    }
   ],
   "source": [
    "shabfelan.head()"
   ]
  },
  {
   "cell_type": "code",
   "execution_count": 17,
   "metadata": {},
   "outputs": [],
   "source": [
    "cities2 = shabfelan['city_name_fa'].unique()\n",
    "dict2 = {}\n",
    "for i in range(len(cities)):\n",
    "    dict2[cities2[i]] = len(shabfelan[shabfelan['city_name_fa'] == cities2[i]])"
   ]
  },
  {
   "cell_type": "code",
   "execution_count": 19,
   "metadata": {
    "scrolled": true
   },
   "outputs": [
    {
     "name": "stdout",
     "output_type": "stream",
     "text": [
      "[('تهران', 12758), ('مشهد', 911), ('اصفهان', 903), ('کرج', 819), ('اهواز', 815), ('شیراز', 650), ('رشت', 499), ('تبریز', 435), ('قم', 391), ('کرمانشاه', 389), ('یزد', 311), ('ساری', 263), ('کرمان', 250), ('بندر عباس', 212), ('همدان', 187), ('قزوین', 183), ('گرگان', 180), ('ارومیه', 179), ('اراک', 175), ('آمل', 168), ('بابل', 160), ('خرم آباد', 153), ('اردبیل', 129), ('زنجان', 128), ('فردیس', 125), ('لاهیجان', 125), ('قائم شهر', 116), ('کاشان', 115), ('زاهدان', 114), ('دزفول', 109), ('بندر انزلی', 98), ('بندر ماهشهر', 97), ('گنبدکاووس', 87), ('بوشهر', 83), ('شاهین شهر', 83), ('آبادان', 74), ('تنکابن', 73), ('سنندج', 73), ('بجنورد', 68), ('بیرجند', 65), ('نوشهر', 61), ('شهرکرد', 58), ('بابلسر', 58), ('اسلامشهر', 57), ('سمنان', 54), ('چالوس', 53), ('ایلام', 52), ('بروجرد', 52), ('نیشابور', 51), ('شاهرود', 47), ('نجف آباد', 47), ('ملایر', 46), ('لنگرود', 46), ('شهریار', 45), ('رامسر', 44), ('یاسوج', 43), ('بهشهر', 42), ('اندیشه', 39), ('بهبهان', 37), ('سیرجان', 37), ('جهرم', 36), ('زابل', 35), ('بهارستان', 35), ('کیش', 34), ('سبزوار', 33), ('رفسنجان', 33), ('امیدیه', 32), ('قدس', 31), ('رودسر', 29), ('محمود آباد', 28), ('مراغه', 28), ('نورآباد', 28), ('فولاد شهر', 27), ('پاکدشت', 26), ('پردیس', 26), ('مسجد سلیمان', 25), ('دورود', 25), ('فومن', 24), ('ابهر', 24), ('پارس آباد', 24), ('خرمشهر', 24), ('خمینی شهر', 23), ('اردکان', 23), ('دوگنبدان', 23), ('الیگودرز', 23), ('قرچک', 22), ('نور', 22), ('دماوند', 22), ('فریدونکنار', 22), ('دامغان', 21), ('تربت حیدریه', 19), ('قوچان', 19), ('مهاباد', 19), ('فسا', 19), ('رامهرمز', 18), ('ورامین', 18), ('شوشتر', 18), ('ملارد', 17), ('جم', 17), ('شوش', 17), ('اندیمشک', 17), ('کرد کوی', 16), ('نکا', 16), ('میانه', 16), ('خرمدره', 15), ('آستانه اشرفیه', 15), ('نظر آباد', 15), ('محمد شهر', 15), ('مشگین شهر', 15), ('صومعه سرا', 14), ('اسلام آباد غرب', 14), ('شهر بابک', 14), ('کلاچای', 14), ('مرند', 14), ('هشتگرد', 14), ('رباط کریم', 14), ('آستارا', 14), ('خوی', 14), ('کوهدشت', 14), ('ایرانشهر', 14), ('خمام', 13), ('ماکو', 13), ('گلپایگان', 13), ('لار', 13), ('کاشمر', 13), ('مریوان', 13), ('تاکستان', 13), ('بم', 13), ('بوکان', 13), ('اهر', 13), ('آران و بیدگل', 13), ('محلات', 12), ('مبارکه', 12), ('سلمان شهر', 12), ('نقده', 12), ('برازجان', 12), ('بانه', 12), ('میاندوآب', 12), ('جوانرود', 12), ('چاه بهار', 12), ('امیر کلا', 12), ('ایذه', 12), ('تویسرکان', 11), ('سر پل ذهاب', 11), ('آبدانان', 11), ('شهرضا', 11), ('قائن', 11), ('آبیک', 11), ('شهر جدید هشتگرد', 10), ('نسیم شهر', 10), ('قروه', 10), ('هشتپر', 10), ('گرمسار', 10), ('بندر ترکمن', 10), ('لامرد', 10), ('دهلران', 10), ('گیلانغرب', 10), ('دیواندره', 9), ('کازرون', 9), ('علی آباد', 9), ('درگز', 9), ('فامنین', 9), ('آباده', 9), ('ملکان', 9), ('نائین', 9), ('خمین', 9), ('جویبار', 9), ('اسد آباد', 9), ('میناب', 9), ('بناب', 9), ('بندر لنگه', 8), ('صحنه', 8), ('عباس آباد', 8), ('چناران', 8), ('سرخرود', 8), ('نهاوند', 8), ('کبودر آهنگ', 8), ('شهر جدید سهند', 8), ('صغاد', 7), ('شهر جدید صدرا', 7), ('شبستر', 7), ('قیدار', 7), ('رضوانشهر', 7), ('مهریز', 7), ('آزاد شهر', 7), ('کمال شهر', 7), ('شادگان', 7), ('قصر شیرین', 7), ('کیاشهر', 7), ('تفرش', 7), ('گراش', 6), ('رودهن', 6), ('شوط', 6), ('کلارآباد', 6), ('چهاردانگه', 6), ('خارک', 6), ('شهر جدید پرند', 6), ('دهدشت', 6), ('شاهین دژ', 6), ('شیرگاه', 6), ('اردستان', 6), ('بومهن', 6), ('بیله سوار', 5), ('اقلید', 5), ('سی سخت', 5), ('خورموج', 5), ('شهر جدید مهاجران', 5), ('ری', 5), ('دهبارز', 5), ('ماهدشت', 5), ('حسن آباد', 5), ('زیرآب', 5), ('داراب', 5), ('بردسیر', 5), ('پیرانشهر', 5), ('دره شهر', 5), ('پارسیان', 5), ('فیروزکوه', 5), ('کنگاور', 5), ('سراوان', 5), ('میمه', 5), ('گلستان', 5), ('کهنوج', 4), ('خورزوق', 4), ('زرند', 4), ('مهران', 4), ('رستم آباد', 4), ('ایزد شهر', 4), ('بافت', 4), ('صفا شهر', 4), ('صفادشت', 4), ('تکاب', 4), ('سراب', 4), ('رویدر', 3), ('درگهان', 3), ('سردرود', 3), ('خاش', 3), ('بسطام', 3), ('ابرکوه', 3), ('تایباد', 3), ('گلشهر', 3), ('دهاقان', 3), ('صائین قلعه', 3), ('سامان', 3), ('قروه در جزین', 3), ('سربیشه', 3), ('ازنا', 3), ('شیرود', 3), ('تیران', 3), ('شفت', 3), ('آشخانه', 3), ('خنداب', 2), ('تودشک', 2), ('توحید', 2), ('شاندیز', 2), ('گالیکش', 2), ('هفشجان', 2), ('باقرشهر', 2), ('رحیم آباد', 2), ('آستانه', 2), ('گندمان', 2), ('فراشبند', 2), ('طرقبه', 2), ('بنت', 2), ('آذرشهر', 2), ('کلاردشت', 2), ('شاهدشهر', 2), ('آبش احمد', 2), ('باغستان', 2), ('درق', 2), ('سرخس', 2), ('سنگر', 2), ('قمصر', 1), ('زاویه', 1), ('جعفر آباد', 1), ('کمیجان', 1), ('فیروزآباد', 1), ('طاقانک', 1), ('فیروزان', 1), ('بیارجمند', 1), ('چاف و چمخاله', 1), ('رامیان', 1), ('موسیان', 1), ('سیه چشمه', 1), ('ابوموسی', 1), ('ساروق', 1), ('قصر قند', 1), ('مهر', 1), ('پلدشت', 1), ('نوسود', 1)]\n"
     ]
    }
   ],
   "source": [
    "sorted_cities_shab = sorted(dict2.items(), key=operator.itemgetter(1), reverse=True)\n",
    "print(sorted_cities_shab)"
   ]
  },
  {
   "cell_type": "markdown",
   "metadata": {},
   "source": [
    "اگر میان‌گین مقدار خرید شب‌زنده‌دار‌ها و سحرخیزها و بقیه‌ی ساعت‌های روز رو مقایسه کنیم:"
   ]
  },
  {
   "cell_type": "code",
   "execution_count": 20,
   "metadata": {},
   "outputs": [],
   "source": [
    "other = df3[(df3['time']>='06:00:00.000') & (df3['time']<='23:59:59.000')]"
   ]
  },
  {
   "cell_type": "code",
   "execution_count": 21,
   "metadata": {},
   "outputs": [
    {
     "data": {
      "text/html": [
       "<div>\n",
       "<style scoped>\n",
       "    .dataframe tbody tr th:only-of-type {\n",
       "        vertical-align: middle;\n",
       "    }\n",
       "\n",
       "    .dataframe tbody tr th {\n",
       "        vertical-align: top;\n",
       "    }\n",
       "\n",
       "    .dataframe thead th {\n",
       "        text-align: right;\n",
       "    }\n",
       "</style>\n",
       "<table border=\"1\" class=\"dataframe\">\n",
       "  <thead>\n",
       "    <tr style=\"text-align: right;\">\n",
       "      <th></th>\n",
       "      <th>ID_Order</th>\n",
       "      <th>ID_Customer</th>\n",
       "      <th>ID_Item</th>\n",
       "      <th>DateTime_CartFinalize</th>\n",
       "      <th>Amount_Gross_Order</th>\n",
       "      <th>city_name_fa</th>\n",
       "      <th>Quantity_item</th>\n",
       "      <th>date</th>\n",
       "      <th>time</th>\n",
       "      <th>year</th>\n",
       "      <th>month</th>\n",
       "      <th>day</th>\n",
       "    </tr>\n",
       "  </thead>\n",
       "  <tbody>\n",
       "    <tr>\n",
       "      <th>0</th>\n",
       "      <td>2714054</td>\n",
       "      <td>469662</td>\n",
       "      <td>21386</td>\n",
       "      <td>2015-10-15 08:50:56.000</td>\n",
       "      <td>597982.0</td>\n",
       "      <td>محمود آباد</td>\n",
       "      <td>1.0</td>\n",
       "      <td>2015-10-15</td>\n",
       "      <td>08:50:56.000</td>\n",
       "      <td>2015</td>\n",
       "      <td>10</td>\n",
       "      <td>15</td>\n",
       "    </tr>\n",
       "    <tr>\n",
       "      <th>3</th>\n",
       "      <td>22225624</td>\n",
       "      <td>6888562</td>\n",
       "      <td>70208</td>\n",
       "      <td>2018-09-03 14:37:19.000</td>\n",
       "      <td>16514.0</td>\n",
       "      <td>قم</td>\n",
       "      <td>1.0</td>\n",
       "      <td>2018-09-03</td>\n",
       "      <td>14:37:19.000</td>\n",
       "      <td>2018</td>\n",
       "      <td>09</td>\n",
       "      <td>03</td>\n",
       "    </tr>\n",
       "    <tr>\n",
       "      <th>4</th>\n",
       "      <td>4068771</td>\n",
       "      <td>2533490</td>\n",
       "      <td>67627</td>\n",
       "      <td>2016-05-21 11:51:02.000</td>\n",
       "      <td>133028.0</td>\n",
       "      <td>تهران</td>\n",
       "      <td>1.0</td>\n",
       "      <td>2016-05-21</td>\n",
       "      <td>11:51:02.000</td>\n",
       "      <td>2016</td>\n",
       "      <td>05</td>\n",
       "      <td>21</td>\n",
       "    </tr>\n",
       "    <tr>\n",
       "      <th>5</th>\n",
       "      <td>11479246</td>\n",
       "      <td>2841640</td>\n",
       "      <td>312932</td>\n",
       "      <td>2018-03-01 12:07:15.000</td>\n",
       "      <td>290000.0</td>\n",
       "      <td>مشهد</td>\n",
       "      <td>1.0</td>\n",
       "      <td>2018-03-01</td>\n",
       "      <td>12:07:15.000</td>\n",
       "      <td>2018</td>\n",
       "      <td>03</td>\n",
       "      <td>01</td>\n",
       "    </tr>\n",
       "    <tr>\n",
       "      <th>6</th>\n",
       "      <td>8267421</td>\n",
       "      <td>5235886</td>\n",
       "      <td>42365</td>\n",
       "      <td>2017-08-19 13:30:24.000</td>\n",
       "      <td>55046.0</td>\n",
       "      <td>اصفهان</td>\n",
       "      <td>1.0</td>\n",
       "      <td>2017-08-19</td>\n",
       "      <td>13:30:24.000</td>\n",
       "      <td>2017</td>\n",
       "      <td>08</td>\n",
       "      <td>19</td>\n",
       "    </tr>\n",
       "  </tbody>\n",
       "</table>\n",
       "</div>"
      ],
      "text/plain": [
       "   ID_Order  ID_Customer  ID_Item    DateTime_CartFinalize  \\\n",
       "0   2714054       469662    21386  2015-10-15 08:50:56.000   \n",
       "3  22225624      6888562    70208  2018-09-03 14:37:19.000   \n",
       "4   4068771      2533490    67627  2016-05-21 11:51:02.000   \n",
       "5  11479246      2841640   312932  2018-03-01 12:07:15.000   \n",
       "6   8267421      5235886    42365  2017-08-19 13:30:24.000   \n",
       "\n",
       "   Amount_Gross_Order city_name_fa  Quantity_item        date          time  \\\n",
       "0            597982.0   محمود آباد            1.0  2015-10-15  08:50:56.000   \n",
       "3             16514.0           قم            1.0  2018-09-03  14:37:19.000   \n",
       "4            133028.0        تهران            1.0  2016-05-21  11:51:02.000   \n",
       "5            290000.0         مشهد            1.0  2018-03-01  12:07:15.000   \n",
       "6             55046.0       اصفهان            1.0  2017-08-19  13:30:24.000   \n",
       "\n",
       "   year month day  \n",
       "0  2015    10  15  \n",
       "3  2018    09  03  \n",
       "4  2016    05  21  \n",
       "5  2018    03  01  \n",
       "6  2017    08  19  "
      ]
     },
     "execution_count": 21,
     "metadata": {},
     "output_type": "execute_result"
    }
   ],
   "source": [
    "other.head()"
   ]
  },
  {
   "cell_type": "code",
   "execution_count": 29,
   "metadata": {},
   "outputs": [],
   "source": [
    "sahar = saharkhiz['Amount_Gross_Order'].mean()\n",
    "shab = shabfelan['Amount_Gross_Order'].mean()\n",
    "mean = other['Amount_Gross_Order'].mean()\n",
    "dict3 = {'early birds': sahar,\n",
    "        'night owls': shab,\n",
    "        'birds?': mean}"
   ]
  },
  {
   "cell_type": "code",
   "execution_count": 30,
   "metadata": {},
   "outputs": [
    {
     "data": {
      "text/plain": [
       "{'early birds': 919719.2701088116,\n",
       " 'night owls': 1140724.7147171781,\n",
       " 'birds?': 1523715.9092905386}"
      ]
     },
     "execution_count": 30,
     "metadata": {},
     "output_type": "execute_result"
    }
   ],
   "source": [
    "dict3"
   ]
  },
  {
   "cell_type": "code",
   "execution_count": 31,
   "metadata": {},
   "outputs": [
    {
     "data": {
      "image/png": "[encoded data removed]",
      "text/plain": [
       "<Figure size 432x288 with 1 Axes>"
      ]
     },
     "metadata": {
      "needs_background": "light"
     },
     "output_type": "display_data"
    }
   ],
   "source": [
    "lists = sorted(dict3.items())\n",
    "x, y = zip(*lists) \n",
    "plt.plot(x, y)\n",
    "plt.show()"
   ]
  },
  {
   "cell_type": "code",
   "execution_count": 32,
   "metadata": {},
   "outputs": [
    {
     "data": {
      "image/png": "[encoded data removed]",
      "text/plain": [
       "<Figure size 432x288 with 1 Axes>"
      ]
     },
     "metadata": {
      "needs_background": "light"
     },
     "output_type": "display_data"
    }
   ],
   "source": [
    "plt.bar(x, y)\n",
    "plt.show()"
   ]
  },
  {
   "cell_type": "code",
   "execution_count": null,
   "metadata": {},
   "outputs": [],
   "source": []
  }
 ],
 "metadata": {
  "kernelspec": {
   "display_name": "Python 3",
   "language": "python",
   "name": "python3"
  },
  "language_info": {
   "codemirror_mode": {
    "name": "ipython",
    "version": 3
   },
   "file_extension": ".py",
   "mimetype": "text/x-python",
   "name": "python",
   "nbconvert_exporter": "python",
   "pygments_lexer": "ipython3",
   "version": "3.7.0"
  }
 },
 "nbformat": 4,
 "nbformat_minor": 2
}
