{
 "cells": [
  {
   "cell_type": "code",
   "execution_count": 1,
   "metadata": {},
   "outputs": [],
   "source": [
    "import pandas as pd\n",
    "import matplotlib.pyplot as plt"
   ]
  },
  {
   "cell_type": "markdown",
   "metadata": {},
   "source": [
    "# # میزان فروش در جشنواره‌‌های سال نو، یلدا و ... چه تفاوتی با بقیه روزها دارد؟\n",
    "# new year = 20 march \n",
    "# yalda = 20, 21 dec"
   ]
  },
  {
   "cell_type": "code",
   "execution_count": 2,
   "metadata": {},
   "outputs": [
    {
     "data": {
      "text/html": [
       "<div>\n",
       "<style scoped>\n",
       "    .dataframe tbody tr th:only-of-type {\n",
       "        vertical-align: middle;\n",
       "    }\n",
       "\n",
       "    .dataframe tbody tr th {\n",
       "        vertical-align: top;\n",
       "    }\n",
       "\n",
       "    .dataframe thead th {\n",
       "        text-align: right;\n",
       "    }\n",
       "</style>\n",
       "<table border=\"1\" class=\"dataframe\">\n",
       "  <thead>\n",
       "    <tr style=\"text-align: right;\">\n",
       "      <th></th>\n",
       "      <th>ID_Order</th>\n",
       "      <th>ID_Customer</th>\n",
       "      <th>ID_Item</th>\n",
       "      <th>DateTime_CartFinalize</th>\n",
       "      <th>Amount_Gross_Order</th>\n",
       "      <th>city_name_fa</th>\n",
       "      <th>Quantity_item</th>\n",
       "      <th>date</th>\n",
       "      <th>time</th>\n",
       "      <th>year</th>\n",
       "      <th>month</th>\n",
       "      <th>day</th>\n",
       "    </tr>\n",
       "  </thead>\n",
       "  <tbody>\n",
       "    <tr>\n",
       "      <th>0</th>\n",
       "      <td>2714054</td>\n",
       "      <td>469662</td>\n",
       "      <td>21386</td>\n",
       "      <td>2015-10-15 08:50:56.000</td>\n",
       "      <td>597982.0</td>\n",
       "      <td>محمود آباد</td>\n",
       "      <td>1.0</td>\n",
       "      <td>2015-10-15</td>\n",
       "      <td>08:50:56.000</td>\n",
       "      <td>2015</td>\n",
       "      <td>10</td>\n",
       "      <td>15</td>\n",
       "    </tr>\n",
       "    <tr>\n",
       "      <th>1</th>\n",
       "      <td>11104039</td>\n",
       "      <td>3063877</td>\n",
       "      <td>248497</td>\n",
       "      <td>2018-02-11 00:29:26.000</td>\n",
       "      <td>980000.0</td>\n",
       "      <td>خرمدره</td>\n",
       "      <td>1.0</td>\n",
       "      <td>2018-02-11</td>\n",
       "      <td>00:29:26.000</td>\n",
       "      <td>2018</td>\n",
       "      <td>02</td>\n",
       "      <td>11</td>\n",
       "    </tr>\n",
       "    <tr>\n",
       "      <th>2</th>\n",
       "      <td>4228130</td>\n",
       "      <td>3184893</td>\n",
       "      <td>50144</td>\n",
       "      <td>2016-06-14 00:30:08.000</td>\n",
       "      <td>229358.0</td>\n",
       "      <td>قرچک</td>\n",
       "      <td>1.0</td>\n",
       "      <td>2016-06-14</td>\n",
       "      <td>00:30:08.000</td>\n",
       "      <td>2016</td>\n",
       "      <td>06</td>\n",
       "      <td>14</td>\n",
       "    </tr>\n",
       "    <tr>\n",
       "      <th>3</th>\n",
       "      <td>22225624</td>\n",
       "      <td>6888562</td>\n",
       "      <td>70208</td>\n",
       "      <td>2018-09-03 14:37:19.000</td>\n",
       "      <td>16514.0</td>\n",
       "      <td>قم</td>\n",
       "      <td>1.0</td>\n",
       "      <td>2018-09-03</td>\n",
       "      <td>14:37:19.000</td>\n",
       "      <td>2018</td>\n",
       "      <td>09</td>\n",
       "      <td>03</td>\n",
       "    </tr>\n",
       "    <tr>\n",
       "      <th>4</th>\n",
       "      <td>4068771</td>\n",
       "      <td>2533490</td>\n",
       "      <td>67627</td>\n",
       "      <td>2016-05-21 11:51:02.000</td>\n",
       "      <td>133028.0</td>\n",
       "      <td>تهران</td>\n",
       "      <td>1.0</td>\n",
       "      <td>2016-05-21</td>\n",
       "      <td>11:51:02.000</td>\n",
       "      <td>2016</td>\n",
       "      <td>05</td>\n",
       "      <td>21</td>\n",
       "    </tr>\n",
       "  </tbody>\n",
       "</table>\n",
       "</div>"
      ],
      "text/plain": [
       "   ID_Order  ID_Customer  ID_Item    DateTime_CartFinalize  \\\n",
       "0   2714054       469662    21386  2015-10-15 08:50:56.000   \n",
       "1  11104039      3063877   248497  2018-02-11 00:29:26.000   \n",
       "2   4228130      3184893    50144  2016-06-14 00:30:08.000   \n",
       "3  22225624      6888562    70208  2018-09-03 14:37:19.000   \n",
       "4   4068771      2533490    67627  2016-05-21 11:51:02.000   \n",
       "\n",
       "   Amount_Gross_Order city_name_fa  Quantity_item        date          time  \\\n",
       "0            597982.0   محمود آباد            1.0  2015-10-15  08:50:56.000   \n",
       "1            980000.0       خرمدره            1.0  2018-02-11  00:29:26.000   \n",
       "2            229358.0         قرچک            1.0  2016-06-14  00:30:08.000   \n",
       "3             16514.0           قم            1.0  2018-09-03  14:37:19.000   \n",
       "4            133028.0        تهران            1.0  2016-05-21  11:51:02.000   \n",
       "\n",
       "   year month day  \n",
       "0  2015    10  15  \n",
       "1  2018    02  11  \n",
       "2  2016    06  14  \n",
       "3  2018    09  03  \n",
       "4  2016    05  21  "
      ]
     },
     "execution_count": 2,
     "metadata": {},
     "output_type": "execute_result"
    }
   ],
   "source": [
    "df3 = pd.read_csv('3.csv')\n",
    "df3['date'], df3['time'] = zip(*df3['DateTime_CartFinalize'].map(lambda x: x.split(' ')))\n",
    "df3['year'], df3['month'], df3['day'] = zip(*df3['date'].map(lambda x: x.split('-')))\n",
    "df3.head()"
   ]
  },
  {
   "cell_type": "markdown",
   "metadata": {},
   "source": [
    "برای یلدا:"
   ]
  },
  {
   "cell_type": "code",
   "execution_count": 3,
   "metadata": {},
   "outputs": [],
   "source": [
    "yalda = df3[df3['date'].str.contains(\"-12-21\") | (df3['date'].str.contains(\"-12-20\"))]"
   ]
  },
  {
   "cell_type": "code",
   "execution_count": 4,
   "metadata": {},
   "outputs": [
    {
     "data": {
      "text/html": [
       "<div>\n",
       "<style scoped>\n",
       "    .dataframe tbody tr th:only-of-type {\n",
       "        vertical-align: middle;\n",
       "    }\n",
       "\n",
       "    .dataframe tbody tr th {\n",
       "        vertical-align: top;\n",
       "    }\n",
       "\n",
       "    .dataframe thead th {\n",
       "        text-align: right;\n",
       "    }\n",
       "</style>\n",
       "<table border=\"1\" class=\"dataframe\">\n",
       "  <thead>\n",
       "    <tr style=\"text-align: right;\">\n",
       "      <th></th>\n",
       "      <th>ID_Order</th>\n",
       "      <th>ID_Customer</th>\n",
       "      <th>ID_Item</th>\n",
       "      <th>DateTime_CartFinalize</th>\n",
       "      <th>Amount_Gross_Order</th>\n",
       "      <th>city_name_fa</th>\n",
       "      <th>Quantity_item</th>\n",
       "      <th>date</th>\n",
       "      <th>time</th>\n",
       "      <th>year</th>\n",
       "      <th>month</th>\n",
       "      <th>day</th>\n",
       "    </tr>\n",
       "  </thead>\n",
       "  <tbody>\n",
       "    <tr>\n",
       "      <th>60</th>\n",
       "      <td>10095770</td>\n",
       "      <td>5708387</td>\n",
       "      <td>436778</td>\n",
       "      <td>2017-12-20 01:27:47.000</td>\n",
       "      <td>900000.0</td>\n",
       "      <td>تهران</td>\n",
       "      <td>1.0</td>\n",
       "      <td>2017-12-20</td>\n",
       "      <td>01:27:47.000</td>\n",
       "      <td>2017</td>\n",
       "      <td>12</td>\n",
       "      <td>20</td>\n",
       "    </tr>\n",
       "    <tr>\n",
       "      <th>78</th>\n",
       "      <td>10096664</td>\n",
       "      <td>2343976</td>\n",
       "      <td>102508</td>\n",
       "      <td>2017-12-20 01:06:45.000</td>\n",
       "      <td>25046.0</td>\n",
       "      <td>تهران</td>\n",
       "      <td>10.0</td>\n",
       "      <td>2017-12-20</td>\n",
       "      <td>01:06:45.000</td>\n",
       "      <td>2017</td>\n",
       "      <td>12</td>\n",
       "      <td>20</td>\n",
       "    </tr>\n",
       "    <tr>\n",
       "      <th>95</th>\n",
       "      <td>10179164</td>\n",
       "      <td>1476510</td>\n",
       "      <td>174490</td>\n",
       "      <td>2017-12-21 02:11:06.000</td>\n",
       "      <td>197523.0</td>\n",
       "      <td>تهران</td>\n",
       "      <td>2.0</td>\n",
       "      <td>2017-12-21</td>\n",
       "      <td>02:11:06.000</td>\n",
       "      <td>2017</td>\n",
       "      <td>12</td>\n",
       "      <td>21</td>\n",
       "    </tr>\n",
       "    <tr>\n",
       "      <th>118</th>\n",
       "      <td>5774506</td>\n",
       "      <td>4475159</td>\n",
       "      <td>234956</td>\n",
       "      <td>2016-12-20 09:23:13.000</td>\n",
       "      <td>27055046.0</td>\n",
       "      <td>تهران</td>\n",
       "      <td>1.0</td>\n",
       "      <td>2016-12-20</td>\n",
       "      <td>09:23:13.000</td>\n",
       "      <td>2016</td>\n",
       "      <td>12</td>\n",
       "      <td>20</td>\n",
       "    </tr>\n",
       "    <tr>\n",
       "      <th>126</th>\n",
       "      <td>10172243</td>\n",
       "      <td>5534482</td>\n",
       "      <td>554236</td>\n",
       "      <td>2017-12-21 01:19:25.000</td>\n",
       "      <td>850000.0</td>\n",
       "      <td>زابل</td>\n",
       "      <td>1.0</td>\n",
       "      <td>2017-12-21</td>\n",
       "      <td>01:19:25.000</td>\n",
       "      <td>2017</td>\n",
       "      <td>12</td>\n",
       "      <td>21</td>\n",
       "    </tr>\n",
       "  </tbody>\n",
       "</table>\n",
       "</div>"
      ],
      "text/plain": [
       "     ID_Order  ID_Customer  ID_Item    DateTime_CartFinalize  \\\n",
       "60   10095770      5708387   436778  2017-12-20 01:27:47.000   \n",
       "78   10096664      2343976   102508  2017-12-20 01:06:45.000   \n",
       "95   10179164      1476510   174490  2017-12-21 02:11:06.000   \n",
       "118   5774506      4475159   234956  2016-12-20 09:23:13.000   \n",
       "126  10172243      5534482   554236  2017-12-21 01:19:25.000   \n",
       "\n",
       "     Amount_Gross_Order city_name_fa  Quantity_item        date          time  \\\n",
       "60             900000.0        تهران            1.0  2017-12-20  01:27:47.000   \n",
       "78              25046.0        تهران           10.0  2017-12-20  01:06:45.000   \n",
       "95             197523.0        تهران            2.0  2017-12-21  02:11:06.000   \n",
       "118          27055046.0        تهران            1.0  2016-12-20  09:23:13.000   \n",
       "126            850000.0         زابل            1.0  2017-12-21  01:19:25.000   \n",
       "\n",
       "     year month day  \n",
       "60   2017    12  20  \n",
       "78   2017    12  20  \n",
       "95   2017    12  21  \n",
       "118  2016    12  20  \n",
       "126  2017    12  21  "
      ]
     },
     "execution_count": 4,
     "metadata": {},
     "output_type": "execute_result"
    }
   ],
   "source": [
    "yalda.head()"
   ]
  },
  {
   "cell_type": "code",
   "execution_count": 3,
   "metadata": {},
   "outputs": [],
   "source": [
    "year2017 = df3[df3['year'] == '2017'] "
   ]
  },
  {
   "cell_type": "code",
   "execution_count": 4,
   "metadata": {},
   "outputs": [
    {
     "data": {
      "text/html": [
       "<div>\n",
       "<style scoped>\n",
       "    .dataframe tbody tr th:only-of-type {\n",
       "        vertical-align: middle;\n",
       "    }\n",
       "\n",
       "    .dataframe tbody tr th {\n",
       "        vertical-align: top;\n",
       "    }\n",
       "\n",
       "    .dataframe thead th {\n",
       "        text-align: right;\n",
       "    }\n",
       "</style>\n",
       "<table border=\"1\" class=\"dataframe\">\n",
       "  <thead>\n",
       "    <tr style=\"text-align: right;\">\n",
       "      <th></th>\n",
       "      <th>ID_Order</th>\n",
       "      <th>ID_Customer</th>\n",
       "      <th>ID_Item</th>\n",
       "      <th>DateTime_CartFinalize</th>\n",
       "      <th>Amount_Gross_Order</th>\n",
       "      <th>city_name_fa</th>\n",
       "      <th>Quantity_item</th>\n",
       "      <th>date</th>\n",
       "      <th>time</th>\n",
       "      <th>year</th>\n",
       "      <th>month</th>\n",
       "      <th>day</th>\n",
       "    </tr>\n",
       "  </thead>\n",
       "  <tbody>\n",
       "    <tr>\n",
       "      <th>6</th>\n",
       "      <td>8267421</td>\n",
       "      <td>5235886</td>\n",
       "      <td>42365</td>\n",
       "      <td>2017-08-19 13:30:24.000</td>\n",
       "      <td>55046.0</td>\n",
       "      <td>اصفهان</td>\n",
       "      <td>1.0</td>\n",
       "      <td>2017-08-19</td>\n",
       "      <td>13:30:24.000</td>\n",
       "      <td>2017</td>\n",
       "      <td>08</td>\n",
       "      <td>19</td>\n",
       "    </tr>\n",
       "    <tr>\n",
       "      <th>8</th>\n",
       "      <td>9916301</td>\n",
       "      <td>1145709</td>\n",
       "      <td>102588</td>\n",
       "      <td>2017-12-11 19:33:59.000</td>\n",
       "      <td>34862.0</td>\n",
       "      <td>تهران</td>\n",
       "      <td>1.0</td>\n",
       "      <td>2017-12-11</td>\n",
       "      <td>19:33:59.000</td>\n",
       "      <td>2017</td>\n",
       "      <td>12</td>\n",
       "      <td>11</td>\n",
       "    </tr>\n",
       "    <tr>\n",
       "      <th>15</th>\n",
       "      <td>7759076</td>\n",
       "      <td>3185842</td>\n",
       "      <td>376625</td>\n",
       "      <td>2017-07-05 09:37:45.000</td>\n",
       "      <td>708440.0</td>\n",
       "      <td>اصفهان</td>\n",
       "      <td>1.0</td>\n",
       "      <td>2017-07-05</td>\n",
       "      <td>09:37:45.000</td>\n",
       "      <td>2017</td>\n",
       "      <td>07</td>\n",
       "      <td>05</td>\n",
       "    </tr>\n",
       "    <tr>\n",
       "      <th>17</th>\n",
       "      <td>9934875</td>\n",
       "      <td>2876902</td>\n",
       "      <td>140331</td>\n",
       "      <td>2017-12-13 11:28:20.000</td>\n",
       "      <td>717798.0</td>\n",
       "      <td>تنکابن</td>\n",
       "      <td>1.0</td>\n",
       "      <td>2017-12-13</td>\n",
       "      <td>11:28:20.000</td>\n",
       "      <td>2017</td>\n",
       "      <td>12</td>\n",
       "      <td>13</td>\n",
       "    </tr>\n",
       "    <tr>\n",
       "      <th>20</th>\n",
       "      <td>6156363</td>\n",
       "      <td>3549803</td>\n",
       "      <td>193926</td>\n",
       "      <td>2017-01-24 03:05:35.000</td>\n",
       "      <td>41284.0</td>\n",
       "      <td>تهران</td>\n",
       "      <td>3.0</td>\n",
       "      <td>2017-01-24</td>\n",
       "      <td>03:05:35.000</td>\n",
       "      <td>2017</td>\n",
       "      <td>01</td>\n",
       "      <td>24</td>\n",
       "    </tr>\n",
       "  </tbody>\n",
       "</table>\n",
       "</div>"
      ],
      "text/plain": [
       "    ID_Order  ID_Customer  ID_Item    DateTime_CartFinalize  \\\n",
       "6    8267421      5235886    42365  2017-08-19 13:30:24.000   \n",
       "8    9916301      1145709   102588  2017-12-11 19:33:59.000   \n",
       "15   7759076      3185842   376625  2017-07-05 09:37:45.000   \n",
       "17   9934875      2876902   140331  2017-12-13 11:28:20.000   \n",
       "20   6156363      3549803   193926  2017-01-24 03:05:35.000   \n",
       "\n",
       "    Amount_Gross_Order city_name_fa  Quantity_item        date          time  \\\n",
       "6              55046.0       اصفهان            1.0  2017-08-19  13:30:24.000   \n",
       "8              34862.0        تهران            1.0  2017-12-11  19:33:59.000   \n",
       "15            708440.0       اصفهان            1.0  2017-07-05  09:37:45.000   \n",
       "17            717798.0       تنکابن            1.0  2017-12-13  11:28:20.000   \n",
       "20             41284.0        تهران            3.0  2017-01-24  03:05:35.000   \n",
       "\n",
       "    year month day  \n",
       "6   2017    08  19  \n",
       "8   2017    12  11  \n",
       "15  2017    07  05  \n",
       "17  2017    12  13  \n",
       "20  2017    01  24  "
      ]
     },
     "execution_count": 4,
     "metadata": {},
     "output_type": "execute_result"
    }
   ],
   "source": [
    "year2017.head()"
   ]
  },
  {
   "cell_type": "code",
   "execution_count": 7,
   "metadata": {
    "collapsed": true
   },
   "outputs": [
    {
     "data": {
      "text/plain": [
       "<matplotlib.axes._subplots.AxesSubplot at 0x112148080>"
      ]
     },
     "execution_count": 7,
     "metadata": {},
     "output_type": "execute_result"
    },
    {
     "data": {
      "image/png": "[encoded data removed]",
      "text/plain": [
       "<Figure size 432x288 with 1 Axes>"
      ]
     },
     "metadata": {
      "needs_background": "light"
     },
     "output_type": "display_data"
    }
   ],
   "source": [
    "year2017.plot(x='date', y='Amount_Gross_Order')"
   ]
  },
  {
   "cell_type": "code",
   "execution_count": 5,
   "metadata": {},
   "outputs": [],
   "source": [
    "yaldacompare = year2017[year2017['month'] == '12']"
   ]
  },
  {
   "cell_type": "code",
   "execution_count": null,
   "metadata": {},
   "outputs": [
    {
     "data": {
      "text/plain": [
       "<matplotlib.axes._subplots.AxesSubplot at 0x11ef66748>"
      ]
     },
     "execution_count": 9,
     "metadata": {},
     "output_type": "execute_result"
    }
   ],
   "source": [
    "yaldacompare.plot.bar(x='day', y='Amount_Gross_Order')"
   ]
  },
  {
   "cell_type": "code",
   "execution_count": 6,
   "metadata": {},
   "outputs": [
    {
     "data": {
      "text/html": [
       "<div>\n",
       "<style scoped>\n",
       "    .dataframe tbody tr th:only-of-type {\n",
       "        vertical-align: middle;\n",
       "    }\n",
       "\n",
       "    .dataframe tbody tr th {\n",
       "        vertical-align: top;\n",
       "    }\n",
       "\n",
       "    .dataframe thead th {\n",
       "        text-align: right;\n",
       "    }\n",
       "</style>\n",
       "<table border=\"1\" class=\"dataframe\">\n",
       "  <thead>\n",
       "    <tr style=\"text-align: right;\">\n",
       "      <th></th>\n",
       "      <th>ID_Order</th>\n",
       "      <th>ID_Customer</th>\n",
       "      <th>ID_Item</th>\n",
       "      <th>DateTime_CartFinalize</th>\n",
       "      <th>Amount_Gross_Order</th>\n",
       "      <th>city_name_fa</th>\n",
       "      <th>Quantity_item</th>\n",
       "      <th>date</th>\n",
       "      <th>time</th>\n",
       "      <th>year</th>\n",
       "      <th>month</th>\n",
       "      <th>day</th>\n",
       "    </tr>\n",
       "  </thead>\n",
       "  <tbody>\n",
       "    <tr>\n",
       "      <th>8</th>\n",
       "      <td>9916301</td>\n",
       "      <td>1145709</td>\n",
       "      <td>102588</td>\n",
       "      <td>2017-12-11 19:33:59.000</td>\n",
       "      <td>34862.0</td>\n",
       "      <td>تهران</td>\n",
       "      <td>1.0</td>\n",
       "      <td>2017-12-11</td>\n",
       "      <td>19:33:59.000</td>\n",
       "      <td>2017</td>\n",
       "      <td>12</td>\n",
       "      <td>11</td>\n",
       "    </tr>\n",
       "    <tr>\n",
       "      <th>17</th>\n",
       "      <td>9934875</td>\n",
       "      <td>2876902</td>\n",
       "      <td>140331</td>\n",
       "      <td>2017-12-13 11:28:20.000</td>\n",
       "      <td>717798.0</td>\n",
       "      <td>تنکابن</td>\n",
       "      <td>1.0</td>\n",
       "      <td>2017-12-13</td>\n",
       "      <td>11:28:20.000</td>\n",
       "      <td>2017</td>\n",
       "      <td>12</td>\n",
       "      <td>13</td>\n",
       "    </tr>\n",
       "    <tr>\n",
       "      <th>37</th>\n",
       "      <td>10036529</td>\n",
       "      <td>2734114</td>\n",
       "      <td>536734</td>\n",
       "      <td>2017-12-19 10:19:54.000</td>\n",
       "      <td>82569.0</td>\n",
       "      <td>تهران</td>\n",
       "      <td>1.0</td>\n",
       "      <td>2017-12-19</td>\n",
       "      <td>10:19:54.000</td>\n",
       "      <td>2017</td>\n",
       "      <td>12</td>\n",
       "      <td>19</td>\n",
       "    </tr>\n",
       "    <tr>\n",
       "      <th>60</th>\n",
       "      <td>10095770</td>\n",
       "      <td>5708387</td>\n",
       "      <td>436778</td>\n",
       "      <td>2017-12-20 01:27:47.000</td>\n",
       "      <td>900000.0</td>\n",
       "      <td>تهران</td>\n",
       "      <td>1.0</td>\n",
       "      <td>2017-12-20</td>\n",
       "      <td>01:27:47.000</td>\n",
       "      <td>2017</td>\n",
       "      <td>12</td>\n",
       "      <td>20</td>\n",
       "    </tr>\n",
       "    <tr>\n",
       "      <th>61</th>\n",
       "      <td>9889134</td>\n",
       "      <td>4864415</td>\n",
       "      <td>10844</td>\n",
       "      <td>2017-12-09 19:10:13.000</td>\n",
       "      <td>2110092.0</td>\n",
       "      <td>تهران</td>\n",
       "      <td>1.0</td>\n",
       "      <td>2017-12-09</td>\n",
       "      <td>19:10:13.000</td>\n",
       "      <td>2017</td>\n",
       "      <td>12</td>\n",
       "      <td>09</td>\n",
       "    </tr>\n",
       "  </tbody>\n",
       "</table>\n",
       "</div>"
      ],
      "text/plain": [
       "    ID_Order  ID_Customer  ID_Item    DateTime_CartFinalize  \\\n",
       "8    9916301      1145709   102588  2017-12-11 19:33:59.000   \n",
       "17   9934875      2876902   140331  2017-12-13 11:28:20.000   \n",
       "37  10036529      2734114   536734  2017-12-19 10:19:54.000   \n",
       "60  10095770      5708387   436778  2017-12-20 01:27:47.000   \n",
       "61   9889134      4864415    10844  2017-12-09 19:10:13.000   \n",
       "\n",
       "    Amount_Gross_Order city_name_fa  Quantity_item        date          time  \\\n",
       "8              34862.0        تهران            1.0  2017-12-11  19:33:59.000   \n",
       "17            717798.0       تنکابن            1.0  2017-12-13  11:28:20.000   \n",
       "37             82569.0        تهران            1.0  2017-12-19  10:19:54.000   \n",
       "60            900000.0        تهران            1.0  2017-12-20  01:27:47.000   \n",
       "61           2110092.0        تهران            1.0  2017-12-09  19:10:13.000   \n",
       "\n",
       "    year month day  \n",
       "8   2017    12  11  \n",
       "17  2017    12  13  \n",
       "37  2017    12  19  \n",
       "60  2017    12  20  \n",
       "61  2017    12  09  "
      ]
     },
     "execution_count": 6,
     "metadata": {},
     "output_type": "execute_result"
    }
   ],
   "source": [
    "yaldacompare.head()"
   ]
  },
  {
   "cell_type": "code",
   "execution_count": 7,
   "metadata": {},
   "outputs": [],
   "source": [
    "yaldacompare = yaldacompare.drop(columns=['ID_Order', 'ID_Customer', 'ID_Item', 'DateTime_CartFinalize',\n",
    "                           'city_name_fa', 'Quantity_item', 'date', 'time', 'year', 'month'])"
   ]
  },
  {
   "cell_type": "code",
   "execution_count": 41,
   "metadata": {
    "collapsed": true
   },
   "outputs": [
    {
     "ename": "KeyboardInterrupt",
     "evalue": "",
     "output_type": "error",
     "traceback": [
      "\u001b[0;31m---------------------------------------------------------------------------\u001b[0m",
      "\u001b[0;31mKeyboardInterrupt\u001b[0m                         Traceback (most recent call last)",
      "\u001b[0;32m<ipython-input-41-df6b5735d034>\u001b[0m in \u001b[0;36m<module>\u001b[0;34m\u001b[0m\n\u001b[0;32m----> 1\u001b[0;31m \u001b[0myaldacompare\u001b[0m\u001b[0;34m.\u001b[0m\u001b[0mplot\u001b[0m\u001b[0;34m.\u001b[0m\u001b[0mbar\u001b[0m\u001b[0;34m(\u001b[0m\u001b[0mx\u001b[0m\u001b[0;34m=\u001b[0m\u001b[0;34m'day'\u001b[0m\u001b[0;34m,\u001b[0m \u001b[0my\u001b[0m\u001b[0;34m=\u001b[0m\u001b[0;34m'Amount_Gross_Order'\u001b[0m\u001b[0;34m)\u001b[0m\u001b[0;34m\u001b[0m\u001b[0m\n\u001b[0m",
      "\u001b[0;32m/usr/local/lib/python3.7/site-packages/pandas/plotting/_core.py\u001b[0m in \u001b[0;36mbar\u001b[0;34m(self, x, y, **kwds)\u001b[0m\n\u001b[1;32m   3088\u001b[0m             \u001b[0;34m>>\u001b[0m\u001b[0;34m>\u001b[0m \u001b[0max\u001b[0m \u001b[0;34m=\u001b[0m \u001b[0mdf\u001b[0m\u001b[0;34m.\u001b[0m\u001b[0mplot\u001b[0m\u001b[0;34m.\u001b[0m\u001b[0mbar\u001b[0m\u001b[0;34m(\u001b[0m\u001b[0mx\u001b[0m\u001b[0;34m=\u001b[0m\u001b[0;34m'lifespan'\u001b[0m\u001b[0;34m,\u001b[0m \u001b[0mrot\u001b[0m\u001b[0;34m=\u001b[0m\u001b[0;36m0\u001b[0m\u001b[0;34m)\u001b[0m\u001b[0;34m\u001b[0m\u001b[0m\n\u001b[1;32m   3089\u001b[0m         \"\"\"\n\u001b[0;32m-> 3090\u001b[0;31m         \u001b[0;32mreturn\u001b[0m \u001b[0mself\u001b[0m\u001b[0;34m(\u001b[0m\u001b[0mkind\u001b[0m\u001b[0;34m=\u001b[0m\u001b[0;34m'bar'\u001b[0m\u001b[0;34m,\u001b[0m \u001b[0mx\u001b[0m\u001b[0;34m=\u001b[0m\u001b[0mx\u001b[0m\u001b[0;34m,\u001b[0m \u001b[0my\u001b[0m\u001b[0;34m=\u001b[0m\u001b[0my\u001b[0m\u001b[0;34m,\u001b[0m \u001b[0;34m**\u001b[0m\u001b[0mkwds\u001b[0m\u001b[0;34m)\u001b[0m\u001b[0;34m\u001b[0m\u001b[0m\n\u001b[0m\u001b[1;32m   3091\u001b[0m \u001b[0;34m\u001b[0m\u001b[0m\n\u001b[1;32m   3092\u001b[0m     \u001b[0;32mdef\u001b[0m \u001b[0mbarh\u001b[0m\u001b[0;34m(\u001b[0m\u001b[0mself\u001b[0m\u001b[0;34m,\u001b[0m \u001b[0mx\u001b[0m\u001b[0;34m=\u001b[0m\u001b[0;32mNone\u001b[0m\u001b[0;34m,\u001b[0m \u001b[0my\u001b[0m\u001b[0;34m=\u001b[0m\u001b[0;32mNone\u001b[0m\u001b[0;34m,\u001b[0m \u001b[0;34m**\u001b[0m\u001b[0mkwds\u001b[0m\u001b[0;34m)\u001b[0m\u001b[0;34m:\u001b[0m\u001b[0;34m\u001b[0m\u001b[0m\n",
      "\u001b[0;32m/usr/local/lib/python3.7/site-packages/pandas/plotting/_core.py\u001b[0m in \u001b[0;36m__call__\u001b[0;34m(self, x, y, kind, ax, subplots, sharex, sharey, layout, figsize, use_index, title, grid, legend, style, logx, logy, loglog, xticks, yticks, xlim, ylim, rot, fontsize, colormap, table, yerr, xerr, secondary_y, sort_columns, **kwds)\u001b[0m\n\u001b[1;32m   2939\u001b[0m                           \u001b[0mfontsize\u001b[0m\u001b[0;34m=\u001b[0m\u001b[0mfontsize\u001b[0m\u001b[0;34m,\u001b[0m \u001b[0mcolormap\u001b[0m\u001b[0;34m=\u001b[0m\u001b[0mcolormap\u001b[0m\u001b[0;34m,\u001b[0m \u001b[0mtable\u001b[0m\u001b[0;34m=\u001b[0m\u001b[0mtable\u001b[0m\u001b[0;34m,\u001b[0m\u001b[0;34m\u001b[0m\u001b[0m\n\u001b[1;32m   2940\u001b[0m                           \u001b[0myerr\u001b[0m\u001b[0;34m=\u001b[0m\u001b[0myerr\u001b[0m\u001b[0;34m,\u001b[0m \u001b[0mxerr\u001b[0m\u001b[0;34m=\u001b[0m\u001b[0mxerr\u001b[0m\u001b[0;34m,\u001b[0m \u001b[0msecondary_y\u001b[0m\u001b[0;34m=\u001b[0m\u001b[0msecondary_y\u001b[0m\u001b[0;34m,\u001b[0m\u001b[0;34m\u001b[0m\u001b[0m\n\u001b[0;32m-> 2941\u001b[0;31m                           sort_columns=sort_columns, **kwds)\n\u001b[0m\u001b[1;32m   2942\u001b[0m     \u001b[0m__call__\u001b[0m\u001b[0;34m.\u001b[0m\u001b[0m__doc__\u001b[0m \u001b[0;34m=\u001b[0m \u001b[0mplot_frame\u001b[0m\u001b[0;34m.\u001b[0m\u001b[0m__doc__\u001b[0m\u001b[0;34m\u001b[0m\u001b[0m\n\u001b[1;32m   2943\u001b[0m \u001b[0;34m\u001b[0m\u001b[0m\n",
      "\u001b[0;32m/usr/local/lib/python3.7/site-packages/pandas/plotting/_core.py\u001b[0m in \u001b[0;36mplot_frame\u001b[0;34m(data, x, y, kind, ax, subplots, sharex, sharey, layout, figsize, use_index, title, grid, legend, style, logx, logy, loglog, xticks, yticks, xlim, ylim, rot, fontsize, colormap, table, yerr, xerr, secondary_y, sort_columns, **kwds)\u001b[0m\n\u001b[1;32m   1975\u001b[0m                  \u001b[0myerr\u001b[0m\u001b[0;34m=\u001b[0m\u001b[0myerr\u001b[0m\u001b[0;34m,\u001b[0m \u001b[0mxerr\u001b[0m\u001b[0;34m=\u001b[0m\u001b[0mxerr\u001b[0m\u001b[0;34m,\u001b[0m\u001b[0;34m\u001b[0m\u001b[0m\n\u001b[1;32m   1976\u001b[0m                  \u001b[0msecondary_y\u001b[0m\u001b[0;34m=\u001b[0m\u001b[0msecondary_y\u001b[0m\u001b[0;34m,\u001b[0m \u001b[0msort_columns\u001b[0m\u001b[0;34m=\u001b[0m\u001b[0msort_columns\u001b[0m\u001b[0;34m,\u001b[0m\u001b[0;34m\u001b[0m\u001b[0m\n\u001b[0;32m-> 1977\u001b[0;31m                  **kwds)\n\u001b[0m\u001b[1;32m   1978\u001b[0m \u001b[0;34m\u001b[0m\u001b[0m\n\u001b[1;32m   1979\u001b[0m \u001b[0;34m\u001b[0m\u001b[0m\n",
      "\u001b[0;32m/usr/local/lib/python3.7/site-packages/pandas/plotting/_core.py\u001b[0m in \u001b[0;36m_plot\u001b[0;34m(data, x, y, subplots, ax, kind, **kwds)\u001b[0m\n\u001b[1;32m   1802\u001b[0m         \u001b[0mplot_obj\u001b[0m \u001b[0;34m=\u001b[0m \u001b[0mklass\u001b[0m\u001b[0;34m(\u001b[0m\u001b[0mdata\u001b[0m\u001b[0;34m,\u001b[0m \u001b[0msubplots\u001b[0m\u001b[0;34m=\u001b[0m\u001b[0msubplots\u001b[0m\u001b[0;34m,\u001b[0m \u001b[0max\u001b[0m\u001b[0;34m=\u001b[0m\u001b[0max\u001b[0m\u001b[0;34m,\u001b[0m \u001b[0mkind\u001b[0m\u001b[0;34m=\u001b[0m\u001b[0mkind\u001b[0m\u001b[0;34m,\u001b[0m \u001b[0;34m**\u001b[0m\u001b[0mkwds\u001b[0m\u001b[0;34m)\u001b[0m\u001b[0;34m\u001b[0m\u001b[0m\n\u001b[1;32m   1803\u001b[0m \u001b[0;34m\u001b[0m\u001b[0m\n\u001b[0;32m-> 1804\u001b[0;31m     \u001b[0mplot_obj\u001b[0m\u001b[0;34m.\u001b[0m\u001b[0mgenerate\u001b[0m\u001b[0;34m(\u001b[0m\u001b[0;34m)\u001b[0m\u001b[0;34m\u001b[0m\u001b[0m\n\u001b[0m\u001b[1;32m   1805\u001b[0m     \u001b[0mplot_obj\u001b[0m\u001b[0;34m.\u001b[0m\u001b[0mdraw\u001b[0m\u001b[0;34m(\u001b[0m\u001b[0;34m)\u001b[0m\u001b[0;34m\u001b[0m\u001b[0m\n\u001b[1;32m   1806\u001b[0m     \u001b[0;32mreturn\u001b[0m \u001b[0mplot_obj\u001b[0m\u001b[0;34m.\u001b[0m\u001b[0mresult\u001b[0m\u001b[0;34m\u001b[0m\u001b[0m\n",
      "\u001b[0;32m/usr/local/lib/python3.7/site-packages/pandas/plotting/_core.py\u001b[0m in \u001b[0;36mgenerate\u001b[0;34m(self)\u001b[0m\n\u001b[1;32m    258\u001b[0m         \u001b[0mself\u001b[0m\u001b[0;34m.\u001b[0m\u001b[0m_compute_plot_data\u001b[0m\u001b[0;34m(\u001b[0m\u001b[0;34m)\u001b[0m\u001b[0;34m\u001b[0m\u001b[0m\n\u001b[1;32m    259\u001b[0m         \u001b[0mself\u001b[0m\u001b[0;34m.\u001b[0m\u001b[0m_setup_subplots\u001b[0m\u001b[0;34m(\u001b[0m\u001b[0;34m)\u001b[0m\u001b[0;34m\u001b[0m\u001b[0m\n\u001b[0;32m--> 260\u001b[0;31m         \u001b[0mself\u001b[0m\u001b[0;34m.\u001b[0m\u001b[0m_make_plot\u001b[0m\u001b[0;34m(\u001b[0m\u001b[0;34m)\u001b[0m\u001b[0;34m\u001b[0m\u001b[0m\n\u001b[0m\u001b[1;32m    261\u001b[0m         \u001b[0mself\u001b[0m\u001b[0;34m.\u001b[0m\u001b[0m_add_table\u001b[0m\u001b[0;34m(\u001b[0m\u001b[0;34m)\u001b[0m\u001b[0;34m\u001b[0m\u001b[0m\n\u001b[1;32m    262\u001b[0m         \u001b[0mself\u001b[0m\u001b[0;34m.\u001b[0m\u001b[0m_make_legend\u001b[0m\u001b[0;34m(\u001b[0m\u001b[0;34m)\u001b[0m\u001b[0;34m\u001b[0m\u001b[0m\n",
      "\u001b[0;32m/usr/local/lib/python3.7/site-packages/pandas/plotting/_core.py\u001b[0m in \u001b[0;36m_make_plot\u001b[0;34m(self)\u001b[0m\n\u001b[1;32m   1263\u001b[0m                 rect = self._plot(ax, self.ax_pos + (i + 0.5) * w, y, w,\n\u001b[1;32m   1264\u001b[0m                                   \u001b[0mstart\u001b[0m\u001b[0;34m=\u001b[0m\u001b[0mstart\u001b[0m\u001b[0;34m,\u001b[0m \u001b[0mlabel\u001b[0m\u001b[0;34m=\u001b[0m\u001b[0mlabel\u001b[0m\u001b[0;34m,\u001b[0m\u001b[0;34m\u001b[0m\u001b[0m\n\u001b[0;32m-> 1265\u001b[0;31m                                   log=self.log, **kwds)\n\u001b[0m\u001b[1;32m   1266\u001b[0m             \u001b[0mself\u001b[0m\u001b[0;34m.\u001b[0m\u001b[0m_add_legend_handle\u001b[0m\u001b[0;34m(\u001b[0m\u001b[0mrect\u001b[0m\u001b[0;34m,\u001b[0m \u001b[0mlabel\u001b[0m\u001b[0;34m,\u001b[0m \u001b[0mindex\u001b[0m\u001b[0;34m=\u001b[0m\u001b[0mi\u001b[0m\u001b[0;34m)\u001b[0m\u001b[0;34m\u001b[0m\u001b[0m\n\u001b[1;32m   1267\u001b[0m \u001b[0;34m\u001b[0m\u001b[0m\n",
      "\u001b[0;32m/usr/local/lib/python3.7/site-packages/pandas/plotting/_core.py\u001b[0m in \u001b[0;36m_plot\u001b[0;34m(cls, ax, x, y, w, start, log, **kwds)\u001b[0m\n\u001b[1;32m   1207\u001b[0m     \u001b[0;34m@\u001b[0m\u001b[0mclassmethod\u001b[0m\u001b[0;34m\u001b[0m\u001b[0m\n\u001b[1;32m   1208\u001b[0m     \u001b[0;32mdef\u001b[0m \u001b[0m_plot\u001b[0m\u001b[0;34m(\u001b[0m\u001b[0mcls\u001b[0m\u001b[0;34m,\u001b[0m \u001b[0max\u001b[0m\u001b[0;34m,\u001b[0m \u001b[0mx\u001b[0m\u001b[0;34m,\u001b[0m \u001b[0my\u001b[0m\u001b[0;34m,\u001b[0m \u001b[0mw\u001b[0m\u001b[0;34m,\u001b[0m \u001b[0mstart\u001b[0m\u001b[0;34m=\u001b[0m\u001b[0;36m0\u001b[0m\u001b[0;34m,\u001b[0m \u001b[0mlog\u001b[0m\u001b[0;34m=\u001b[0m\u001b[0;32mFalse\u001b[0m\u001b[0;34m,\u001b[0m \u001b[0;34m**\u001b[0m\u001b[0mkwds\u001b[0m\u001b[0;34m)\u001b[0m\u001b[0;34m:\u001b[0m\u001b[0;34m\u001b[0m\u001b[0m\n\u001b[0;32m-> 1209\u001b[0;31m         \u001b[0;32mreturn\u001b[0m \u001b[0max\u001b[0m\u001b[0;34m.\u001b[0m\u001b[0mbar\u001b[0m\u001b[0;34m(\u001b[0m\u001b[0mx\u001b[0m\u001b[0;34m,\u001b[0m \u001b[0my\u001b[0m\u001b[0;34m,\u001b[0m \u001b[0mw\u001b[0m\u001b[0;34m,\u001b[0m \u001b[0mbottom\u001b[0m\u001b[0;34m=\u001b[0m\u001b[0mstart\u001b[0m\u001b[0;34m,\u001b[0m \u001b[0mlog\u001b[0m\u001b[0;34m=\u001b[0m\u001b[0mlog\u001b[0m\u001b[0;34m,\u001b[0m \u001b[0;34m**\u001b[0m\u001b[0mkwds\u001b[0m\u001b[0;34m)\u001b[0m\u001b[0;34m\u001b[0m\u001b[0m\n\u001b[0m\u001b[1;32m   1210\u001b[0m \u001b[0;34m\u001b[0m\u001b[0m\n\u001b[1;32m   1211\u001b[0m     \u001b[0;34m@\u001b[0m\u001b[0mproperty\u001b[0m\u001b[0;34m\u001b[0m\u001b[0m\n",
      "\u001b[0;32m/usr/local/lib/python3.7/site-packages/matplotlib/__init__.py\u001b[0m in \u001b[0;36minner\u001b[0;34m(ax, data, *args, **kwargs)\u001b[0m\n\u001b[1;32m   1783\u001b[0m                         \u001b[0;34m\"the Matplotlib list!)\"\u001b[0m \u001b[0;34m%\u001b[0m \u001b[0;34m(\u001b[0m\u001b[0mlabel_namer\u001b[0m\u001b[0;34m,\u001b[0m \u001b[0mfunc\u001b[0m\u001b[0;34m.\u001b[0m\u001b[0m__name__\u001b[0m\u001b[0;34m)\u001b[0m\u001b[0;34m,\u001b[0m\u001b[0;34m\u001b[0m\u001b[0m\n\u001b[1;32m   1784\u001b[0m                         RuntimeWarning, stacklevel=2)\n\u001b[0;32m-> 1785\u001b[0;31m             \u001b[0;32mreturn\u001b[0m \u001b[0mfunc\u001b[0m\u001b[0;34m(\u001b[0m\u001b[0max\u001b[0m\u001b[0;34m,\u001b[0m \u001b[0;34m*\u001b[0m\u001b[0margs\u001b[0m\u001b[0;34m,\u001b[0m \u001b[0;34m**\u001b[0m\u001b[0mkwargs\u001b[0m\u001b[0;34m)\u001b[0m\u001b[0;34m\u001b[0m\u001b[0m\n\u001b[0m\u001b[1;32m   1786\u001b[0m \u001b[0;34m\u001b[0m\u001b[0m\n\u001b[1;32m   1787\u001b[0m         inner.__doc__ = _add_data_doc(inner.__doc__,\n",
      "\u001b[0;32m/usr/local/lib/python3.7/site-packages/matplotlib/axes/_axes.py\u001b[0m in \u001b[0;36mbar\u001b[0;34m(self, x, height, width, bottom, align, **kwargs)\u001b[0m\n\u001b[1;32m   2287\u001b[0m                 \u001b[0medgecolor\u001b[0m\u001b[0;34m=\u001b[0m\u001b[0me\u001b[0m\u001b[0;34m,\u001b[0m\u001b[0;34m\u001b[0m\u001b[0m\n\u001b[1;32m   2288\u001b[0m                 \u001b[0mlinewidth\u001b[0m\u001b[0;34m=\u001b[0m\u001b[0mlw\u001b[0m\u001b[0;34m,\u001b[0m\u001b[0;34m\u001b[0m\u001b[0m\n\u001b[0;32m-> 2289\u001b[0;31m                 \u001b[0mlabel\u001b[0m\u001b[0;34m=\u001b[0m\u001b[0;34m'_nolegend_'\u001b[0m\u001b[0;34m,\u001b[0m\u001b[0;34m\u001b[0m\u001b[0m\n\u001b[0m\u001b[1;32m   2290\u001b[0m                 )\n\u001b[1;32m   2291\u001b[0m             \u001b[0mr\u001b[0m\u001b[0;34m.\u001b[0m\u001b[0mupdate\u001b[0m\u001b[0;34m(\u001b[0m\u001b[0mkwargs\u001b[0m\u001b[0;34m)\u001b[0m\u001b[0;34m\u001b[0m\u001b[0m\n",
      "\u001b[0;32m/usr/local/lib/python3.7/site-packages/matplotlib/patches.py\u001b[0m in \u001b[0;36m__init__\u001b[0;34m(self, xy, width, height, angle, **kwargs)\u001b[0m\n\u001b[1;32m    656\u001b[0m         \"\"\"\n\u001b[1;32m    657\u001b[0m \u001b[0;34m\u001b[0m\u001b[0m\n\u001b[0;32m--> 658\u001b[0;31m         \u001b[0mPatch\u001b[0m\u001b[0;34m.\u001b[0m\u001b[0m__init__\u001b[0m\u001b[0;34m(\u001b[0m\u001b[0mself\u001b[0m\u001b[0;34m,\u001b[0m \u001b[0;34m**\u001b[0m\u001b[0mkwargs\u001b[0m\u001b[0;34m)\u001b[0m\u001b[0;34m\u001b[0m\u001b[0m\n\u001b[0m\u001b[1;32m    659\u001b[0m \u001b[0;34m\u001b[0m\u001b[0m\n\u001b[1;32m    660\u001b[0m         \u001b[0mself\u001b[0m\u001b[0;34m.\u001b[0m\u001b[0m_x0\u001b[0m \u001b[0;34m=\u001b[0m \u001b[0mxy\u001b[0m\u001b[0;34m[\u001b[0m\u001b[0;36m0\u001b[0m\u001b[0;34m]\u001b[0m\u001b[0;34m\u001b[0m\u001b[0m\n",
      "\u001b[0;32m/usr/local/lib/python3.7/site-packages/matplotlib/patches.py\u001b[0m in \u001b[0;36m__init__\u001b[0;34m(self, edgecolor, facecolor, color, linewidth, linestyle, antialiased, hatch, fill, capstyle, joinstyle, **kwargs)\u001b[0m\n\u001b[1;32m     90\u001b[0m         \u001b[0mself\u001b[0m\u001b[0;34m.\u001b[0m\u001b[0mset_capstyle\u001b[0m\u001b[0;34m(\u001b[0m\u001b[0mcapstyle\u001b[0m\u001b[0;34m)\u001b[0m\u001b[0;34m\u001b[0m\u001b[0m\n\u001b[1;32m     91\u001b[0m         \u001b[0mself\u001b[0m\u001b[0;34m.\u001b[0m\u001b[0mset_joinstyle\u001b[0m\u001b[0;34m(\u001b[0m\u001b[0mjoinstyle\u001b[0m\u001b[0;34m)\u001b[0m\u001b[0;34m\u001b[0m\u001b[0m\n\u001b[0;32m---> 92\u001b[0;31m         \u001b[0mself\u001b[0m\u001b[0;34m.\u001b[0m\u001b[0m_combined_transform\u001b[0m \u001b[0;34m=\u001b[0m \u001b[0mtransforms\u001b[0m\u001b[0;34m.\u001b[0m\u001b[0mIdentityTransform\u001b[0m\u001b[0;34m(\u001b[0m\u001b[0;34m)\u001b[0m\u001b[0;34m\u001b[0m\u001b[0m\n\u001b[0m\u001b[1;32m     93\u001b[0m \u001b[0;34m\u001b[0m\u001b[0m\n\u001b[1;32m     94\u001b[0m         \u001b[0;32mif\u001b[0m \u001b[0mlen\u001b[0m\u001b[0;34m(\u001b[0m\u001b[0mkwargs\u001b[0m\u001b[0;34m)\u001b[0m\u001b[0;34m:\u001b[0m\u001b[0;34m\u001b[0m\u001b[0m\n",
      "\u001b[0;32m/usr/local/lib/python3.7/site-packages/matplotlib/transforms.py\u001b[0m in \u001b[0;36m__init__\u001b[0;34m(self, *args, **kwargs)\u001b[0m\n\u001b[1;32m   1723\u001b[0m     \u001b[0mis_affine\u001b[0m \u001b[0;34m=\u001b[0m \u001b[0;32mTrue\u001b[0m\u001b[0;34m\u001b[0m\u001b[0m\n\u001b[1;32m   1724\u001b[0m \u001b[0;34m\u001b[0m\u001b[0m\n\u001b[0;32m-> 1725\u001b[0;31m     \u001b[0;32mdef\u001b[0m \u001b[0m__init__\u001b[0m\u001b[0;34m(\u001b[0m\u001b[0mself\u001b[0m\u001b[0;34m,\u001b[0m \u001b[0;34m*\u001b[0m\u001b[0margs\u001b[0m\u001b[0;34m,\u001b[0m \u001b[0;34m**\u001b[0m\u001b[0mkwargs\u001b[0m\u001b[0;34m)\u001b[0m\u001b[0;34m:\u001b[0m\u001b[0;34m\u001b[0m\u001b[0m\n\u001b[0m\u001b[1;32m   1726\u001b[0m         \u001b[0mTransform\u001b[0m\u001b[0;34m.\u001b[0m\u001b[0m__init__\u001b[0m\u001b[0;34m(\u001b[0m\u001b[0mself\u001b[0m\u001b[0;34m,\u001b[0m \u001b[0;34m*\u001b[0m\u001b[0margs\u001b[0m\u001b[0;34m,\u001b[0m \u001b[0;34m**\u001b[0m\u001b[0mkwargs\u001b[0m\u001b[0;34m)\u001b[0m\u001b[0;34m\u001b[0m\u001b[0m\n\u001b[1;32m   1727\u001b[0m         \u001b[0mself\u001b[0m\u001b[0;34m.\u001b[0m\u001b[0m_inverted\u001b[0m \u001b[0;34m=\u001b[0m \u001b[0;32mNone\u001b[0m\u001b[0;34m\u001b[0m\u001b[0m\n",
      "\u001b[0;31mKeyboardInterrupt\u001b[0m: "
     ]
    },
    {
     "data": {
      "image/png": "[encoded data removed]",
      "text/plain": [
       "<Figure size 432x288 with 1 Axes>"
      ]
     },
     "metadata": {
      "needs_background": "light"
     },
     "output_type": "display_data"
    }
   ],
   "source": [
    "yaldacompare.plot.bar(x='day', y='Amount_Gross_Order')"
   ]
  },
  {
   "cell_type": "code",
   "execution_count": 8,
   "metadata": {},
   "outputs": [
    {
     "name": "stdout",
     "output_type": "stream",
     "text": [
      "['11' '13' '19' '20' '09' '04' '24' '21' '16' '28' '27' '30' '15' '31'\n",
      " '02' '07' '22' '08' '10' '05' '29' '12' '23' '26' '01' '03' '18' '25'\n",
      " '17' '06' '14']\n"
     ]
    }
   ],
   "source": [
    "days = yaldacompare['day'].unique()\n",
    "print(days)"
   ]
  },
  {
   "cell_type": "code",
   "execution_count": 9,
   "metadata": {},
   "outputs": [],
   "source": [
    "for i in range(len(days)):\n",
    "    yaldacompare['Sum'] = yaldacompare.loc[yaldacompare['day'] == i, 'Amount_Gross_Order'].sum()"
   ]
  },
  {
   "cell_type": "code",
   "execution_count": 10,
   "metadata": {},
   "outputs": [
    {
     "data": {
      "text/html": [
       "<div>\n",
       "<style scoped>\n",
       "    .dataframe tbody tr th:only-of-type {\n",
       "        vertical-align: middle;\n",
       "    }\n",
       "\n",
       "    .dataframe tbody tr th {\n",
       "        vertical-align: top;\n",
       "    }\n",
       "\n",
       "    .dataframe thead th {\n",
       "        text-align: right;\n",
       "    }\n",
       "</style>\n",
       "<table border=\"1\" class=\"dataframe\">\n",
       "  <thead>\n",
       "    <tr style=\"text-align: right;\">\n",
       "      <th></th>\n",
       "      <th>Amount_Gross_Order</th>\n",
       "      <th>day</th>\n",
       "      <th>Sum</th>\n",
       "    </tr>\n",
       "  </thead>\n",
       "  <tbody>\n",
       "    <tr>\n",
       "      <th>8</th>\n",
       "      <td>34862.0</td>\n",
       "      <td>11</td>\n",
       "      <td>0.0</td>\n",
       "    </tr>\n",
       "    <tr>\n",
       "      <th>17</th>\n",
       "      <td>717798.0</td>\n",
       "      <td>13</td>\n",
       "      <td>0.0</td>\n",
       "    </tr>\n",
       "    <tr>\n",
       "      <th>37</th>\n",
       "      <td>82569.0</td>\n",
       "      <td>19</td>\n",
       "      <td>0.0</td>\n",
       "    </tr>\n",
       "    <tr>\n",
       "      <th>60</th>\n",
       "      <td>900000.0</td>\n",
       "      <td>20</td>\n",
       "      <td>0.0</td>\n",
       "    </tr>\n",
       "    <tr>\n",
       "      <th>61</th>\n",
       "      <td>2110092.0</td>\n",
       "      <td>09</td>\n",
       "      <td>0.0</td>\n",
       "    </tr>\n",
       "  </tbody>\n",
       "</table>\n",
       "</div>"
      ],
      "text/plain": [
       "    Amount_Gross_Order day  Sum\n",
       "8              34862.0  11  0.0\n",
       "17            717798.0  13  0.0\n",
       "37             82569.0  19  0.0\n",
       "60            900000.0  20  0.0\n",
       "61           2110092.0  09  0.0"
      ]
     },
     "execution_count": 10,
     "metadata": {},
     "output_type": "execute_result"
    }
   ],
   "source": [
    "yaldacompare.head()"
   ]
  },
  {
   "cell_type": "code",
   "execution_count": 104,
   "metadata": {
    "collapsed": true
   },
   "outputs": [
    {
     "data": {
      "text/plain": [
       "Amount_Gross_Order\n",
       "1.0                                                         1821\n",
       "1000.0                                                      1920\n",
       "4587.0                                                      1919\n",
       "5000.0                                                2024212021\n",
       "5505.0                                                1324242010\n",
       "6330.0                                                  21212020\n",
       "7225.0                                                        19\n",
       "7798.0                                                  19121106\n",
       "7868.0                                                        06\n",
       "7890.0                                                        20\n",
       "8257.0                                                        02\n",
       "8500.0                                        202224192120222111\n",
       "8716.0                                                        23\n",
       "9000.0                                                        22\n",
       "9083.0                                                        09\n",
       "9174.0                      302121162919201928092119201920211319\n",
       "9800.0                                                        09\n",
       "10000.0        0220051911100919112621190711121909020807071908...\n",
       "10092.0                                                       07\n",
       "11009.0                                                   172320\n",
       "11500.0                                                       27\n",
       "11743.0                                                       21\n",
       "12000.0                                                       25\n",
       "12018.0                                                       20\n",
       "12385.0                                               2019191909\n",
       "12752.0                                                 13212108\n",
       "12844.0                                                   072019\n",
       "13000.0                                                 20171213\n",
       "13500.0                                                       19\n",
       "13761.0                                         1020082009070525\n",
       "                                     ...                        \n",
       "27900000.0                                                    25\n",
       "27970000.0                                                    30\n",
       "28614679.0                                                  1003\n",
       "28990000.0                                                    27\n",
       "31733945.0                                                    04\n",
       "32018349.0                                                    20\n",
       "33018349.0                                                    19\n",
       "33348624.0                                                    18\n",
       "34211009.0                                                232524\n",
       "34422018.0                                                    29\n",
       "34486239.0                                                    12\n",
       "35587156.0                                                    13\n",
       "36688073.0                                                    19\n",
       "36828440.0                                                    20\n",
       "36990000.0                                                    25\n",
       "37200000.0                                                    22\n",
       "38155963.0                                                    20\n",
       "39200000.0                                                    21\n",
       "41275229.0                                                    03\n",
       "43029174.0                                                    27\n",
       "45990000.0                                                    28\n",
       "51366972.0                                                    25\n",
       "52284404.0                                                    20\n",
       "52651376.0                                                    20\n",
       "53660550.0                                                    08\n",
       "55950000.0                                                    26\n",
       "58522936.0                                                    03\n",
       "62270275.0                                                    19\n",
       "64350000.0                                                    29\n",
       "111880000.0                                                   09\n",
       "Name: day, Length: 2198, dtype: object"
      ]
     },
     "execution_count": 104,
     "metadata": {},
     "output_type": "execute_result"
    }
   ],
   "source": [
    "yaldacompare.groupby('Amount_Gross_Order')['day'].sum()"
   ]
  },
  {
   "cell_type": "code",
   "execution_count": 19,
   "metadata": {},
   "outputs": [],
   "source": [
    "dict={}\n",
    "for i in range(len(days)):\n",
    "    dict[i] = yaldacompare.loc[yaldacompare['day'] == days[i], 'Amount_Gross_Order'].sum()"
   ]
  },
  {
   "cell_type": "code",
   "execution_count": 20,
   "metadata": {},
   "outputs": [
    {
     "data": {
      "text/plain": [
       "{0: 255021370.0,\n",
       " 1: 232977885.0,\n",
       " 2: 1467406430.0,\n",
       " 3: 1314169300.0,\n",
       " 4: 330767006.0,\n",
       " 5: 163788828.0,\n",
       " 6: 230321090.0,\n",
       " 7: 903078425.0,\n",
       " 8: 148557061.0,\n",
       " 9: 226716312.0,\n",
       " 10: 260276910.0,\n",
       " 11: 195370535.0,\n",
       " 12: 95345230.0,\n",
       " 13: 259221604.0,\n",
       " 14: 355572947.0,\n",
       " 15: 192621939.0,\n",
       " 16: 281549564.0,\n",
       " 17: 180284332.0,\n",
       " 18: 270291668.0,\n",
       " 19: 202640965.0,\n",
       " 20: 261353974.0,\n",
       " 21: 228499972.0,\n",
       " 22: 193157826.0,\n",
       " 23: 277062308.0,\n",
       " 24: 172588268.0,\n",
       " 25: 303379406.0,\n",
       " 26: 307559586.0,\n",
       " 27: 360808681.0,\n",
       " 28: 147698640.0,\n",
       " 29: 114224084.0,\n",
       " 30: 123517048.0}"
      ]
     },
     "execution_count": 20,
     "metadata": {},
     "output_type": "execute_result"
    }
   ],
   "source": [
    "dict"
   ]
  },
  {
   "cell_type": "code",
   "execution_count": 17,
   "metadata": {
    "scrolled": false
   },
   "outputs": [
    {
     "data": {
      "image/png": "[encoded data removed]",
      "text/plain": [
       "<Figure size 432x288 with 1 Axes>"
      ]
     },
     "metadata": {
      "needs_background": "light"
     },
     "output_type": "display_data"
    }
   ],
   "source": [
    "compare = sorted(dict.items())\n",
    "x, y = zip(*compare) \n",
    "plt.plot(x, y)\n",
    "plt.show()"
   ]
  },
  {
   "cell_type": "code",
   "execution_count": 18,
   "metadata": {
    "scrolled": false
   },
   "outputs": [
    {
     "data": {
      "image/png": "[encoded data removed]",
      "text/plain": [
       "<Figure size 432x288 with 1 Axes>"
      ]
     },
     "metadata": {
      "needs_background": "light"
     },
     "output_type": "display_data"
    }
   ],
   "source": [
    "plt.bar(x, y)\n",
    "plt.show()"
   ]
  },
  {
   "cell_type": "markdown",
   "metadata": {},
   "source": [
    "حالا برای سال نو:"
   ]
  },
  {
   "cell_type": "code",
   "execution_count": 21,
   "metadata": {},
   "outputs": [],
   "source": [
    "newyearcompare = year2017[year2017['month'] == '03']"
   ]
  },
  {
   "cell_type": "code",
   "execution_count": 22,
   "metadata": {},
   "outputs": [
    {
     "data": {
      "text/html": [
       "<div>\n",
       "<style scoped>\n",
       "    .dataframe tbody tr th:only-of-type {\n",
       "        vertical-align: middle;\n",
       "    }\n",
       "\n",
       "    .dataframe tbody tr th {\n",
       "        vertical-align: top;\n",
       "    }\n",
       "\n",
       "    .dataframe thead th {\n",
       "        text-align: right;\n",
       "    }\n",
       "</style>\n",
       "<table border=\"1\" class=\"dataframe\">\n",
       "  <thead>\n",
       "    <tr style=\"text-align: right;\">\n",
       "      <th></th>\n",
       "      <th>ID_Order</th>\n",
       "      <th>ID_Customer</th>\n",
       "      <th>ID_Item</th>\n",
       "      <th>DateTime_CartFinalize</th>\n",
       "      <th>Amount_Gross_Order</th>\n",
       "      <th>city_name_fa</th>\n",
       "      <th>Quantity_item</th>\n",
       "      <th>date</th>\n",
       "      <th>time</th>\n",
       "      <th>year</th>\n",
       "      <th>month</th>\n",
       "      <th>day</th>\n",
       "    </tr>\n",
       "  </thead>\n",
       "  <tbody>\n",
       "    <tr>\n",
       "      <th>30</th>\n",
       "      <td>6769561</td>\n",
       "      <td>3883460</td>\n",
       "      <td>273905</td>\n",
       "      <td>2017-03-15 09:15:07.000</td>\n",
       "      <td>385321.0</td>\n",
       "      <td>تهران</td>\n",
       "      <td>1.0</td>\n",
       "      <td>2017-03-15</td>\n",
       "      <td>09:15:07.000</td>\n",
       "      <td>2017</td>\n",
       "      <td>03</td>\n",
       "      <td>15</td>\n",
       "    </tr>\n",
       "    <tr>\n",
       "      <th>34</th>\n",
       "      <td>6675155</td>\n",
       "      <td>3727007</td>\n",
       "      <td>125562</td>\n",
       "      <td>2017-03-09 12:27:52.000</td>\n",
       "      <td>156000.0</td>\n",
       "      <td>تهران</td>\n",
       "      <td>1.0</td>\n",
       "      <td>2017-03-09</td>\n",
       "      <td>12:27:52.000</td>\n",
       "      <td>2017</td>\n",
       "      <td>03</td>\n",
       "      <td>09</td>\n",
       "    </tr>\n",
       "    <tr>\n",
       "      <th>54</th>\n",
       "      <td>6739433</td>\n",
       "      <td>3285324</td>\n",
       "      <td>294943</td>\n",
       "      <td>2017-03-12 18:41:03.000</td>\n",
       "      <td>1000000.0</td>\n",
       "      <td>آستانه اشرفیه</td>\n",
       "      <td>3.0</td>\n",
       "      <td>2017-03-12</td>\n",
       "      <td>18:41:03.000</td>\n",
       "      <td>2017</td>\n",
       "      <td>03</td>\n",
       "      <td>12</td>\n",
       "    </tr>\n",
       "    <tr>\n",
       "      <th>63</th>\n",
       "      <td>6690876</td>\n",
       "      <td>2864208</td>\n",
       "      <td>292076</td>\n",
       "      <td>2017-03-10 15:26:45.000</td>\n",
       "      <td>1518257.0</td>\n",
       "      <td>تهران</td>\n",
       "      <td>1.0</td>\n",
       "      <td>2017-03-10</td>\n",
       "      <td>15:26:45.000</td>\n",
       "      <td>2017</td>\n",
       "      <td>03</td>\n",
       "      <td>10</td>\n",
       "    </tr>\n",
       "    <tr>\n",
       "      <th>125</th>\n",
       "      <td>6784664</td>\n",
       "      <td>2833738</td>\n",
       "      <td>293088</td>\n",
       "      <td>2017-03-16 11:14:13.000</td>\n",
       "      <td>174312.0</td>\n",
       "      <td>تهران</td>\n",
       "      <td>1.0</td>\n",
       "      <td>2017-03-16</td>\n",
       "      <td>11:14:13.000</td>\n",
       "      <td>2017</td>\n",
       "      <td>03</td>\n",
       "      <td>16</td>\n",
       "    </tr>\n",
       "  </tbody>\n",
       "</table>\n",
       "</div>"
      ],
      "text/plain": [
       "     ID_Order  ID_Customer  ID_Item    DateTime_CartFinalize  \\\n",
       "30    6769561      3883460   273905  2017-03-15 09:15:07.000   \n",
       "34    6675155      3727007   125562  2017-03-09 12:27:52.000   \n",
       "54    6739433      3285324   294943  2017-03-12 18:41:03.000   \n",
       "63    6690876      2864208   292076  2017-03-10 15:26:45.000   \n",
       "125   6784664      2833738   293088  2017-03-16 11:14:13.000   \n",
       "\n",
       "     Amount_Gross_Order   city_name_fa  Quantity_item        date  \\\n",
       "30             385321.0          تهران            1.0  2017-03-15   \n",
       "34             156000.0          تهران            1.0  2017-03-09   \n",
       "54            1000000.0  آستانه اشرفیه            3.0  2017-03-12   \n",
       "63            1518257.0          تهران            1.0  2017-03-10   \n",
       "125            174312.0          تهران            1.0  2017-03-16   \n",
       "\n",
       "             time  year month day  \n",
       "30   09:15:07.000  2017    03  15  \n",
       "34   12:27:52.000  2017    03  09  \n",
       "54   18:41:03.000  2017    03  12  \n",
       "63   15:26:45.000  2017    03  10  \n",
       "125  11:14:13.000  2017    03  16  "
      ]
     },
     "execution_count": 22,
     "metadata": {},
     "output_type": "execute_result"
    }
   ],
   "source": [
    "newyearcompare.head()"
   ]
  },
  {
   "cell_type": "code",
   "execution_count": 23,
   "metadata": {},
   "outputs": [],
   "source": [
    "newyearcompare = newyearcompare.drop(columns=['ID_Order', 'ID_Customer', 'ID_Item', 'DateTime_CartFinalize',\n",
    "                           'city_name_fa', 'Quantity_item', 'date', 'time', 'year', 'month'])"
   ]
  },
  {
   "cell_type": "code",
   "execution_count": 27,
   "metadata": {},
   "outputs": [
    {
     "name": "stdout",
     "output_type": "stream",
     "text": [
      "['15' '09' '12' '10' '16' '13' '04' '05' '28' '24' '22' '07' '14' '02'\n",
      " '11' '06' '31' '23' '18' '26' '17' '30' '03' '01' '21' '08' '25' '27'\n",
      " '29' '19' '20']\n"
     ]
    }
   ],
   "source": [
    "days = newyearcompare['day'].unique()\n",
    "print(days)"
   ]
  },
  {
   "cell_type": "code",
   "execution_count": 36,
   "metadata": {},
   "outputs": [],
   "source": [
    "dict2={}\n",
    "for i in range(len(days)):\n",
    "    dict2[i] = newyearcompare.loc[newyearcompare['day'] == days[i], 'Amount_Gross_Order'].sum()"
   ]
  },
  {
   "cell_type": "code",
   "execution_count": 37,
   "metadata": {},
   "outputs": [
    {
     "data": {
      "text/plain": [
       "{0: 293117724.0,\n",
       " 1: 247510399.0,\n",
       " 2: 402920604.0,\n",
       " 3: 194610364.0,\n",
       " 4: 242518232.0,\n",
       " 5: 512155459.0,\n",
       " 6: 319044225.0,\n",
       " 7: 300259487.0,\n",
       " 8: 117444495.0,\n",
       " 9: 90522136.0,\n",
       " 10: 196350682.0,\n",
       " 11: 285056125.0,\n",
       " 12: 468521177.0,\n",
       " 13: 158024496.0,\n",
       " 14: 477142561.0,\n",
       " 15: 418287721.0,\n",
       " 16: 59565918.0,\n",
       " 17: 193586270.0,\n",
       " 18: 147811761.0,\n",
       " 19: 193581191.0,\n",
       " 20: 134611043.0,\n",
       " 21: 161229913.0,\n",
       " 22: 209034272.0,\n",
       " 23: 310319783.0,\n",
       " 24: 109355789.0,\n",
       " 25: 377263453.0,\n",
       " 26: 246545548.0,\n",
       " 27: 187912982.0,\n",
       " 28: 100642086.0,\n",
       " 29: 107782340.0,\n",
       " 30: 90358970.0}"
      ]
     },
     "execution_count": 37,
     "metadata": {},
     "output_type": "execute_result"
    }
   ],
   "source": [
    "dict2"
   ]
  },
  {
   "cell_type": "code",
   "execution_count": 38,
   "metadata": {},
   "outputs": [
    {
     "data": {
      "image/png": "[encoded data removed]",
      "text/plain": [
       "<Figure size 432x288 with 1 Axes>"
      ]
     },
     "metadata": {
      "needs_background": "light"
     },
     "output_type": "display_data"
    }
   ],
   "source": [
    "compare2 = sorted(dict.items())\n",
    "x, y = zip(*compare2) \n",
    "plt.plot(x, y)\n",
    "plt.show()"
   ]
  },
  {
   "cell_type": "code",
   "execution_count": 39,
   "metadata": {},
   "outputs": [
    {
     "data": {
      "image/png": "[encoded data removed]",
      "text/plain": [
       "<Figure size 432x288 with 1 Axes>"
      ]
     },
     "metadata": {
      "needs_background": "light"
     },
     "output_type": "display_data"
    }
   ],
   "source": [
    "plt.bar(x, y)\n",
    "plt.show()"
   ]
  },
  {
   "cell_type": "code",
   "execution_count": null,
   "metadata": {},
   "outputs": [],
   "source": []
  }
 ],
 "metadata": {
  "kernelspec": {
   "display_name": "Python 3",
   "language": "python",
   "name": "python3"
  },
  "language_info": {
   "codemirror_mode": {
    "name": "ipython",
    "version": 3
   },
   "file_extension": ".py",
   "mimetype": "text/x-python",
   "name": "python",
   "nbconvert_exporter": "python",
   "pygments_lexer": "ipython3",
   "version": "3.7.0"
  }
 },
 "nbformat": 4,
 "nbformat_minor": 2
}
